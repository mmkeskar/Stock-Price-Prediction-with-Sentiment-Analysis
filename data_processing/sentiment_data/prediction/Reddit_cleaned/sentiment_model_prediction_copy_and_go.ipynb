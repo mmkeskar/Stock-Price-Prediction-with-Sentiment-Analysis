{
 "cells": [
  {
   "cell_type": "markdown",
   "metadata": {},
   "source": [
    "# Sentiment Model Prediction Copy and Go"
   ]
  },
  {
   "cell_type": "code",
   "execution_count": 1,
   "metadata": {},
   "outputs": [],
   "source": [
    "import tensorflow as tf"
   ]
  },
  {
   "cell_type": "code",
   "execution_count": 2,
   "metadata": {},
   "outputs": [],
   "source": [
    "model = tf.keras.models.load_model(\"Final_sentiment_predictor\")"
   ]
  },
  {
   "cell_type": "code",
   "execution_count": 3,
   "metadata": {},
   "outputs": [
    {
     "name": "stderr",
     "output_type": "stream",
     "text": [
      "C:\\Users\\maitr\\Anaconda3\\lib\\site-packages\\ipykernel_launcher.py:25: RuntimeWarning: invalid value encountered in double_scalars\n"
     ]
    },
    {
     "name": "stdout",
     "output_type": "stream",
     "text": [
      "Done\n"
     ]
    }
   ],
   "source": [
    "# Before running this block, you should finish training the DNN with name \"model\"\n",
    "import os\n",
    "import numpy as np  # Remove if already defined\n",
    "\n",
    "# Predicting\n",
    "selected_company = [\"facebook\", \"amazon\", \"tesla\", \"netflix\", \"apple\", \"google\"]\n",
    "company_df = dict(zip(selected_company, [[], [], [], [], [], []]))\n",
    "for comp in selected_company:\n",
    "    for month in range(1, 13):\n",
    "        for day in range(1, 32):\n",
    "            \n",
    "            # File reading\n",
    "            try:\n",
    "                word_vector = np.load(\"comment_vectors/{}-{}-{}.npz\".format(comp, month, day))\n",
    "                impacts = list(np.loadtxt(\"impact_weights/{}-{}-{}.txt\".format(comp, month, day)))\n",
    "            except:\n",
    "                continue\n",
    "            \n",
    "            # Several ways to add weights to the sentiments\n",
    "            # Plain mean, weighted mean, square weighted mean, sqrt weighted mean\n",
    "            # All weights normalized before computing\n",
    "            norm_impacts = [i / (sum(impacts)+0.01) for i in impacts]\n",
    "            square_impacts = [i**2 for i in impacts]\n",
    "            norm_square_impacts = [i / (sum(square_impacts)+0.01) for i in square_impacts]\n",
    "            sqrt_impacts = [i**(1/2) for i in impacts]\n",
    "            norm_sqrt_impacts = [i / (sum(sqrt_impacts)+0.01) for i in sqrt_impacts]\n",
    "            \n",
    "            # Preparing\n",
    "            date_str = \"{}/{}/2020\".format(month, day)\n",
    "            y_preds = model.predict_on_batch(word_vector['inputs'])  # Make predictions\n",
    "            sentiments_prob = np.array([p[1] for p in y_preds]) * 2 - 1\n",
    "            sentiments = np.array([p[0] < 0.5 for p in y_preds]).astype(int)  # Manual Softmax\n",
    "            sentiments = sentiments * 2 - 1  # Change to -1 and 1 labels\n",
    "            \n",
    "            # Formatting\n",
    "            company_df[comp].append([\n",
    "                date_str,\n",
    "                np.round(sentiments @ norm_impacts, 3),\n",
    "                np.round(sentiments @ norm_square_impacts, 3),\n",
    "                np.round(sentiments @ norm_sqrt_impacts, 3),\n",
    "                np.round(sentiments_prob @ norm_impacts, 3),\n",
    "                np.round(sentiments_prob @ norm_square_impacts, 3),\n",
    "                np.round(sentiments_prob @ norm_sqrt_impacts, 3)\n",
    "            ])\n",
    "\n",
    "\n",
    "# Output\n",
    "import pandas as pd\n",
    "\n",
    "try:\n",
    "    os.mkdir(\"sentiment_time_series\")\n",
    "except FileExistsError:\n",
    "    print(\"Directory already exists\")\n",
    "\n",
    "for comp in selected_company:\n",
    "    df = pd.DataFrame(\n",
    "        data=company_df[comp],\n",
    "        columns=[\"date\", \"binary_mean\", \"binary_squared_mean\", \"binary_sqrt_mean\", \"prob_mean\", \"prob_squared_mean\", \"prob_sqrt_mean\"]\n",
    "    )\n",
    "    df.to_csv(\"sentiment_time_series/{}_sentiment_time_series.csv\".format(comp), index=False)\n",
    "\n",
    "print(\"Done\")"
   ]
  }
 ],
 "metadata": {
  "kernelspec": {
   "display_name": "Python 3",
   "language": "python",
   "name": "python3"
  },
  "language_info": {
   "codemirror_mode": {
    "name": "ipython",
    "version": 3
   },
   "file_extension": ".py",
   "mimetype": "text/x-python",
   "name": "python",
   "nbconvert_exporter": "python",
   "pygments_lexer": "ipython3",
   "version": "3.7.4"
  }
 },
 "nbformat": 4,
 "nbformat_minor": 4
}
