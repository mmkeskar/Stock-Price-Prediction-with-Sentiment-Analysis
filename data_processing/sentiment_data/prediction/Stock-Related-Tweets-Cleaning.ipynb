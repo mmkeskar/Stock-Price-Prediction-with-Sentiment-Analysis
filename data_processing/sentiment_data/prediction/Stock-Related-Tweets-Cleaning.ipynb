{
 "cells": [
  {
   "cell_type": "markdown",
   "metadata": {},
   "source": [
    "# Stock Related Tweets Cleaning"
   ]
  },
  {
   "cell_type": "code",
   "execution_count": 1,
   "metadata": {},
   "outputs": [],
   "source": [
    "import numpy as np\n",
    "import pandas as pd\n",
    "import spacy\n",
    "import csv"
   ]
  },
  {
   "cell_type": "code",
   "execution_count": 2,
   "metadata": {},
   "outputs": [],
   "source": [
    "nlp = spacy.load(\"en_core_web_lg\")"
   ]
  },
  {
   "cell_type": "code",
   "execution_count": 3,
   "metadata": {},
   "outputs": [],
   "source": [
    "df = pd.DataFrame(columns=[\"month\", \"day\", \"Snippet\", \"Impact\", \"Mentioned Authors\"])\n",
    "\n",
    "for index in range(2, 13):\n",
    "    filename = \"rawdata/TwitterMentions{}.csv\".format(index)\n",
    "    temp_df = pd.read_csv(filename, header=0, usecols = [\"Date\", \"Snippet\", \"Impact\", \"Mentioned Authors\"], encoding=\"latin1\")\n",
    "    temp_df = temp_df.assign(month=pd.to_datetime(temp_df[\"Date\"]).dt.month, day=pd.to_datetime(temp_df[\"Date\"]).dt.day)\n",
    "    temp_df = temp_df[[\"month\", \"day\", \"Snippet\", \"Impact\", \"Mentioned Authors\"]]\n",
    "    df = pd.concat([df, temp_df], ignore_index=True)"
   ]
  },
  {
   "cell_type": "code",
   "execution_count": 6,
   "metadata": {},
   "outputs": [
    {
     "data": {
      "text/plain": [
       "(95000, 5)"
      ]
     },
     "execution_count": 6,
     "metadata": {},
     "output_type": "execute_result"
    }
   ],
   "source": [
    "df.shape"
   ]
  },
  {
   "cell_type": "code",
   "execution_count": 7,
   "metadata": {},
   "outputs": [],
   "source": [
    "selected_company = [\"facebook\", \"amazon\", \"tesla\", \"netflix\", \"apple\", \"google\"]\n",
    "for comp in selected_company:\n",
    "    df_cp = df.loc[df[\"Mentioned Authors\"].str.contains(comp, na=False)]\n",
    "    for month in df_cp[\"month\"].unique():\n",
    "        df_mo = df_cp.loc[df_cp[\"month\"]==month]\n",
    "        for day in df_mo[\"day\"].unique():\n",
    "            df_final = df_mo.loc[df_mo[\"day\"]==day]\n",
    "            words = np.array([nlp(d).vector for d in df_final[\"Snippet\"]])\n",
    "            np.savez(\"Tweets_cleaned/comment_vectors/{}-{}-{}\".format(comp, month, day), inputs=words)\n",
    "            np.savetxt(\"Tweets_cleaned/impact_weights/{}-{}-{}.txt\".format(comp, month, day), df_final[\"Impact\"].to_numpy())"
   ]
  },
  {
   "cell_type": "code",
   "execution_count": null,
   "metadata": {},
   "outputs": [],
   "source": [
    "df.loc[(df[\"month\"]==10) & (df[\"day\"]==15) & (df[\"Mentioned Authors\"].str.contains(\"amazon\"))]"
   ]
  },
  {
   "cell_type": "code",
   "execution_count": 7,
   "metadata": {},
   "outputs": [],
   "source": [
    "num = []\n",
    "date = []\n",
    "for month in range(1,13):\n",
    "    for day in range(1, 32):\n",
    "        num.append(len(df.loc[(df.month==month) & (df.day==day)]))\n",
    "        date.append(\"{}/{}/2020\".format(month, day))"
   ]
  },
  {
   "cell_type": "code",
   "execution_count": 13,
   "metadata": {},
   "outputs": [],
   "source": [
    "data_csv = pd.DataFrame(data=np.array([date, num]).T, columns=[\"date\", \"number_of_tweets_collected\"])\n",
    "data_csv.to_csv(\"number_of_tweets_collected.csv\")"
   ]
  }
 ],
 "metadata": {
  "kernelspec": {
   "display_name": "Python 3",
   "language": "python",
   "name": "python3"
  },
  "language_info": {
   "codemirror_mode": {
    "name": "ipython",
    "version": 3
   },
   "file_extension": ".py",
   "mimetype": "text/x-python",
   "name": "python",
   "nbconvert_exporter": "python",
   "pygments_lexer": "ipython3",
   "version": "3.7.6"
  }
 },
 "nbformat": 4,
 "nbformat_minor": 4
}
