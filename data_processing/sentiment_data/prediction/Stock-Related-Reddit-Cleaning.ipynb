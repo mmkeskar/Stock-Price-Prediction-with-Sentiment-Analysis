{
 "cells": [
  {
   "cell_type": "markdown",
   "metadata": {},
   "source": [
    "# Stock Related Tweets Cleaning"
   ]
  },
  {
   "cell_type": "code",
   "execution_count": 1,
   "metadata": {},
   "outputs": [],
   "source": [
    "import numpy as np\n",
    "import pandas as pd\n",
    "import spacy\n",
    "import csv"
   ]
  },
  {
   "cell_type": "code",
   "execution_count": 2,
   "metadata": {},
   "outputs": [],
   "source": [
    "nlp = spacy.load(\"en_core_web_lg\")"
   ]
  },
  {
   "cell_type": "code",
   "execution_count": 41,
   "metadata": {},
   "outputs": [],
   "source": [
    "df = pd.DataFrame(columns=[\"month\", \"day\", \"Title + Snippet\", \"Reddit Score\", \"Mentioned Companies\"])\n",
    "\n",
    "for index in range(2, 9):\n",
    "    filename = \"rawdata/RedditMentions{}.csv\".format(index)\n",
    "    temp_df = pd.read_csv(filename, header=0, usecols = [\"Date\", \"Title + Snippet\", \"Reddit Score\", \"Mentioned Companies\"], encoding=\"latin1\")\n",
    "    temp_df = temp_df.assign(month=pd.to_datetime(temp_df[\"Date\"]).dt.month, day=pd.to_datetime(temp_df[\"Date\"]).dt.day)\n",
    "    temp_df = temp_df[[\"month\", \"day\", \"Title + Snippet\", \"Reddit Score\", \"Mentioned Companies\"]]\n",
    "    df = pd.concat([df, temp_df], ignore_index=True)"
   ]
  },
  {
   "cell_type": "code",
   "execution_count": 42,
   "metadata": {},
   "outputs": [
    {
     "data": {
      "text/plain": [
       "(35000, 5)"
      ]
     },
     "execution_count": 42,
     "metadata": {},
     "output_type": "execute_result"
    }
   ],
   "source": [
    "df.shape"
   ]
  },
  {
   "cell_type": "code",
   "execution_count": 44,
   "metadata": {},
   "outputs": [],
   "source": [
    "comp_dict = {\n",
    "    \"TSLA\": \"tesla\",\n",
    "    \"AAPL\": \"apple\",\n",
    "    \"AMZN\": \"amazon\",\n",
    "    \"NFLX\": \"netflex\",\n",
    "    \"FB\": \"facebook\",\n",
    "    \"GOOG\": \"google\"\n",
    "}"
   ]
  },
  {
   "cell_type": "code",
   "execution_count": 45,
   "metadata": {},
   "outputs": [
    {
     "data": {
      "text/html": [
       "<div>\n",
       "<style scoped>\n",
       "    .dataframe tbody tr th:only-of-type {\n",
       "        vertical-align: middle;\n",
       "    }\n",
       "\n",
       "    .dataframe tbody tr th {\n",
       "        vertical-align: top;\n",
       "    }\n",
       "\n",
       "    .dataframe thead th {\n",
       "        text-align: right;\n",
       "    }\n",
       "</style>\n",
       "<table border=\"1\" class=\"dataframe\">\n",
       "  <thead>\n",
       "    <tr style=\"text-align: right;\">\n",
       "      <th></th>\n",
       "      <th>month</th>\n",
       "      <th>day</th>\n",
       "      <th>Title + Snippet</th>\n",
       "      <th>Reddit Score</th>\n",
       "      <th>Mentioned Companies</th>\n",
       "    </tr>\n",
       "  </thead>\n",
       "  <tbody>\n",
       "    <tr>\n",
       "      <th>0</th>\n",
       "      <td>8</td>\n",
       "      <td>10</td>\n",
       "      <td>$TSLA Daily Investor Discussion - August 10, 2...</td>\n",
       "      <td>2</td>\n",
       "      <td>TSLA</td>\n",
       "    </tr>\n",
       "    <tr>\n",
       "      <th>1</th>\n",
       "      <td>5</td>\n",
       "      <td>6</td>\n",
       "      <td>This scale makes no sense (am I missing someth...</td>\n",
       "      <td>5</td>\n",
       "      <td>FB</td>\n",
       "    </tr>\n",
       "    <tr>\n",
       "      <th>2</th>\n",
       "      <td>9</td>\n",
       "      <td>21</td>\n",
       "      <td>Found this gem on fb. I will not rest until th...</td>\n",
       "      <td>21</td>\n",
       "      <td>FB</td>\n",
       "    </tr>\n",
       "    <tr>\n",
       "      <th>3</th>\n",
       "      <td>9</td>\n",
       "      <td>25</td>\n",
       "      <td>FB account disabled, went to Oculus support fo...</td>\n",
       "      <td>1</td>\n",
       "      <td>FB</td>\n",
       "    </tr>\n",
       "    <tr>\n",
       "      <th>4</th>\n",
       "      <td>7</td>\n",
       "      <td>11</td>\n",
       "      <td>Full sent it and Risked $60K(pretty much my wh...</td>\n",
       "      <td>2</td>\n",
       "      <td>TSLA</td>\n",
       "    </tr>\n",
       "    <tr>\n",
       "      <th>...</th>\n",
       "      <td>...</td>\n",
       "      <td>...</td>\n",
       "      <td>...</td>\n",
       "      <td>...</td>\n",
       "      <td>...</td>\n",
       "    </tr>\n",
       "    <tr>\n",
       "      <th>34995</th>\n",
       "      <td>7</td>\n",
       "      <td>5</td>\n",
       "      <td>July 4th Fight/Driver Hits Individual. I am sh...</td>\n",
       "      <td>50</td>\n",
       "      <td>FB</td>\n",
       "    </tr>\n",
       "    <tr>\n",
       "      <th>34996</th>\n",
       "      <td>10</td>\n",
       "      <td>12</td>\n",
       "      <td>AAPL cash secured put with the goal to be assi...</td>\n",
       "      <td>3</td>\n",
       "      <td>AAPL</td>\n",
       "    </tr>\n",
       "    <tr>\n",
       "      <th>34997</th>\n",
       "      <td>7</td>\n",
       "      <td>3</td>\n",
       "      <td>$300k on AMZN $3100c 8/21Next stop, Tendie Town!</td>\n",
       "      <td>0</td>\n",
       "      <td>AMZN</td>\n",
       "    </tr>\n",
       "    <tr>\n",
       "      <th>34998</th>\n",
       "      <td>8</td>\n",
       "      <td>21</td>\n",
       "      <td>Friday August 21, 2020 Daily /r/thetagang Disc...</td>\n",
       "      <td>0</td>\n",
       "      <td>TSLA</td>\n",
       "    </tr>\n",
       "    <tr>\n",
       "      <th>34999</th>\n",
       "      <td>1</td>\n",
       "      <td>18</td>\n",
       "      <td>Why even go to the doctor? FB to the rescue!Mi...</td>\n",
       "      <td>0</td>\n",
       "      <td>FB</td>\n",
       "    </tr>\n",
       "  </tbody>\n",
       "</table>\n",
       "<p>35000 rows × 5 columns</p>\n",
       "</div>"
      ],
      "text/plain": [
       "      month day                                    Title + Snippet  \\\n",
       "0         8  10  $TSLA Daily Investor Discussion - August 10, 2...   \n",
       "1         5   6  This scale makes no sense (am I missing someth...   \n",
       "2         9  21  Found this gem on fb. I will not rest until th...   \n",
       "3         9  25  FB account disabled, went to Oculus support fo...   \n",
       "4         7  11  Full sent it and Risked $60K(pretty much my wh...   \n",
       "...     ...  ..                                                ...   \n",
       "34995     7   5  July 4th Fight/Driver Hits Individual. I am sh...   \n",
       "34996    10  12  AAPL cash secured put with the goal to be assi...   \n",
       "34997     7   3   $300k on AMZN $3100c 8/21Next stop, Tendie Town!   \n",
       "34998     8  21  Friday August 21, 2020 Daily /r/thetagang Disc...   \n",
       "34999     1  18  Why even go to the doctor? FB to the rescue!Mi...   \n",
       "\n",
       "      Reddit Score Mentioned Companies  \n",
       "0                2               TSLA   \n",
       "1                5                 FB   \n",
       "2               21                 FB   \n",
       "3                1                 FB   \n",
       "4                2               TSLA   \n",
       "...            ...                 ...  \n",
       "34995           50                 FB   \n",
       "34996            3               AAPL   \n",
       "34997            0               AMZN   \n",
       "34998            0               TSLA   \n",
       "34999            0                 FB   \n",
       "\n",
       "[35000 rows x 5 columns]"
      ]
     },
     "execution_count": 45,
     "metadata": {},
     "output_type": "execute_result"
    }
   ],
   "source": [
    "df"
   ]
  },
  {
   "cell_type": "code",
   "execution_count": 46,
   "metadata": {},
   "outputs": [],
   "source": [
    "selected_company = [\"FB\", \"AMZN\", \"TSLA\", \"NFLX\", \"AAPL\", \"GOOG\"]\n",
    "for comp in selected_company:\n",
    "    df_cp = df.loc[df[\"Mentioned Companies\"].str.contains(comp, na=False)]\n",
    "    for month in df_cp[\"month\"].unique():\n",
    "        df_mo = df_cp.loc[df_cp[\"month\"]==month]\n",
    "        for day in df_mo[\"day\"].unique():\n",
    "            df_final = df_mo.loc[df_mo[\"day\"]==day]\n",
    "            words = np.array([nlp(d).vector for d in df_final[\"Title + Snippet\"]])\n",
    "            np.savez(\"Reddit_cleaned/comment_vectors/{}-{}-{}\".format(comp_dict[comp], month, day), inputs=words)\n",
    "            np.savetxt(\"Reddit_cleaned/impact_weights/{}-{}-{}.txt\".format(comp_dict[comp], month, day), df_final[\"Reddit Score\"].to_numpy())"
   ]
  }
 ],
 "metadata": {
  "kernelspec": {
   "display_name": "Python 3",
   "language": "python",
   "name": "python3"
  },
  "language_info": {
   "codemirror_mode": {
    "name": "ipython",
    "version": 3
   },
   "file_extension": ".py",
   "mimetype": "text/x-python",
   "name": "python",
   "nbconvert_exporter": "python",
   "pygments_lexer": "ipython3",
   "version": "3.7.6"
  }
 },
 "nbformat": 4,
 "nbformat_minor": 4
}
