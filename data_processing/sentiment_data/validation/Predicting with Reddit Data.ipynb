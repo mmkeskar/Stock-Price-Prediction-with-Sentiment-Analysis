{
 "cells": [
  {
   "cell_type": "code",
   "execution_count": 1,
   "metadata": {},
   "outputs": [],
   "source": [
    "import tensorflow as tf"
   ]
  },
  {
   "cell_type": "code",
   "execution_count": 2,
   "metadata": {},
   "outputs": [],
   "source": [
    "model = tf.keras.models.load_model(\"Sentiment_predictor\")"
   ]
  },
  {
   "cell_type": "code",
   "execution_count": 3,
   "metadata": {},
   "outputs": [],
   "source": [
    "import numpy as np\n",
    "reddit_comments = np.load(\"reddit_comment.npz\")"
   ]
  },
  {
   "cell_type": "code",
   "execution_count": 5,
   "metadata": {},
   "outputs": [
    {
     "data": {
      "text/plain": [
       "(37249, 300)"
      ]
     },
     "execution_count": 5,
     "metadata": {},
     "output_type": "execute_result"
    }
   ],
   "source": [
    "reddit_comments['inputs'].shape"
   ]
  },
  {
   "cell_type": "code",
   "execution_count": 6,
   "metadata": {},
   "outputs": [],
   "source": [
    "predictions = model.predict(reddit_comments['inputs'])"
   ]
  },
  {
   "cell_type": "code",
   "execution_count": 7,
   "metadata": {},
   "outputs": [],
   "source": [
    "actual_values = np.load(\"reddit_labels.npy\")"
   ]
  },
  {
   "cell_type": "code",
   "execution_count": 9,
   "metadata": {},
   "outputs": [
    {
     "data": {
      "text/plain": [
       "array([ 1,  1, -1, ...,  0,  1,  0])"
      ]
     },
     "execution_count": 9,
     "metadata": {},
     "output_type": "execute_result"
    }
   ],
   "source": [
    "actual_values"
   ]
  },
  {
   "cell_type": "code",
   "execution_count": 10,
   "metadata": {},
   "outputs": [
    {
     "data": {
      "text/plain": [
       "array([[3.4342384e-01, 6.5657616e-01],\n",
       "       [6.2945604e-01, 3.7054405e-01],\n",
       "       [5.7200897e-01, 4.2799106e-01],\n",
       "       ...,\n",
       "       [3.6667323e-01, 6.3332677e-01],\n",
       "       [3.4284571e-04, 9.9965715e-01],\n",
       "       [9.5638287e-01, 4.3617200e-02]], dtype=float32)"
      ]
     },
     "execution_count": 10,
     "metadata": {},
     "output_type": "execute_result"
    }
   ],
   "source": [
    "predictions"
   ]
  },
  {
   "cell_type": "code",
   "execution_count": 15,
   "metadata": {},
   "outputs": [],
   "source": [
    "def make_predictions(lower_limit, upper_limit, predictions, actual):\n",
    "    count = 0\n",
    "    for i in range(len(predictions)):\n",
    "        if predictions[i][1] < lower_limit:\n",
    "            if actual[i] == -1:\n",
    "                count +=1\n",
    "        elif predictions[i][1] < upper_limit:\n",
    "            if actual[i] == 0:\n",
    "                count +=1\n",
    "        else:\n",
    "            if actual[i] == 1:\n",
    "                count +=1\n",
    "    accuracy = (count/len(predictions))*100\n",
    "    return accuracy"
   ]
  },
  {
   "cell_type": "code",
   "execution_count": 16,
   "metadata": {},
   "outputs": [
    {
     "name": "stdout",
     "output_type": "stream",
     "text": [
      "35.421085129802144\n"
     ]
    }
   ],
   "source": [
    "forty_sixty = make_predictions(0.4, 0.6, predictions, actual_values)\n",
    "print(forty_sixty)"
   ]
  },
  {
   "cell_type": "code",
   "execution_count": 19,
   "metadata": {},
   "outputs": [
    {
     "name": "stdout",
     "output_type": "stream",
     "text": [
      "35.81304196085801\n"
     ]
    }
   ],
   "source": [
    "thirty_five_sixty_five = make_predictions(0.35, 0.65, predictions, actual_values)\n",
    "print(thirty_five_sixty_five)"
   ]
  },
  {
   "cell_type": "code",
   "execution_count": null,
   "metadata": {},
   "outputs": [],
   "source": []
  }
 ],
 "metadata": {
  "kernelspec": {
   "display_name": "Python 3",
   "language": "python",
   "name": "python3"
  },
  "language_info": {
   "codemirror_mode": {
    "name": "ipython",
    "version": 3
   },
   "file_extension": ".py",
   "mimetype": "text/x-python",
   "name": "python",
   "nbconvert_exporter": "python",
   "pygments_lexer": "ipython3",
   "version": "3.7.9"
  }
 },
 "nbformat": 4,
 "nbformat_minor": 2
}
