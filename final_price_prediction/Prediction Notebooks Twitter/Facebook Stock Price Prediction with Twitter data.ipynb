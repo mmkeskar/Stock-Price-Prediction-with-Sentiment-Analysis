{
 "cells": [
  {
   "cell_type": "markdown",
   "metadata": {},
   "source": [
    "# Import Relevant Libraries"
   ]
  },
  {
   "cell_type": "code",
   "execution_count": 1,
   "metadata": {},
   "outputs": [],
   "source": [
    "import pandas as pd\n",
    "import numpy as np\n",
    "import matplotlib.pyplot as plt"
   ]
  },
  {
   "cell_type": "markdown",
   "metadata": {},
   "source": [
    "# Prepare inputs and targets"
   ]
  },
  {
   "cell_type": "code",
   "execution_count": 2,
   "metadata": {},
   "outputs": [
    {
     "data": {
      "text/html": [
       "<div>\n",
       "<style scoped>\n",
       "    .dataframe tbody tr th:only-of-type {\n",
       "        vertical-align: middle;\n",
       "    }\n",
       "\n",
       "    .dataframe tbody tr th {\n",
       "        vertical-align: top;\n",
       "    }\n",
       "\n",
       "    .dataframe thead th {\n",
       "        text-align: right;\n",
       "    }\n",
       "</style>\n",
       "<table border=\"1\" class=\"dataframe\">\n",
       "  <thead>\n",
       "    <tr style=\"text-align: right;\">\n",
       "      <th></th>\n",
       "      <th>date</th>\n",
       "      <th>binary_mean</th>\n",
       "      <th>binary_squared_mean</th>\n",
       "      <th>binary_sqrt_mean</th>\n",
       "      <th>prob_mean</th>\n",
       "      <th>prob_squared_mean</th>\n",
       "      <th>prob_sqrt_mean</th>\n",
       "    </tr>\n",
       "  </thead>\n",
       "  <tbody>\n",
       "    <tr>\n",
       "      <th>0</th>\n",
       "      <td>1/2/2020</td>\n",
       "      <td>-1.000</td>\n",
       "      <td>-1.000</td>\n",
       "      <td>-1.000</td>\n",
       "      <td>-0.364</td>\n",
       "      <td>-0.344</td>\n",
       "      <td>-0.376</td>\n",
       "    </tr>\n",
       "    <tr>\n",
       "      <th>1</th>\n",
       "      <td>1/3/2020</td>\n",
       "      <td>-1.000</td>\n",
       "      <td>-1.000</td>\n",
       "      <td>-0.999</td>\n",
       "      <td>-0.479</td>\n",
       "      <td>-0.477</td>\n",
       "      <td>-0.480</td>\n",
       "    </tr>\n",
       "    <tr>\n",
       "      <th>2</th>\n",
       "      <td>1/5/2020</td>\n",
       "      <td>0.304</td>\n",
       "      <td>0.272</td>\n",
       "      <td>0.319</td>\n",
       "      <td>0.136</td>\n",
       "      <td>0.086</td>\n",
       "      <td>0.162</td>\n",
       "    </tr>\n",
       "    <tr>\n",
       "      <th>3</th>\n",
       "      <td>1/6/2020</td>\n",
       "      <td>-0.372</td>\n",
       "      <td>-0.430</td>\n",
       "      <td>-0.350</td>\n",
       "      <td>-0.388</td>\n",
       "      <td>-0.437</td>\n",
       "      <td>-0.371</td>\n",
       "    </tr>\n",
       "    <tr>\n",
       "      <th>4</th>\n",
       "      <td>1/7/2020</td>\n",
       "      <td>-0.280</td>\n",
       "      <td>-0.589</td>\n",
       "      <td>-0.180</td>\n",
       "      <td>0.066</td>\n",
       "      <td>-0.007</td>\n",
       "      <td>0.074</td>\n",
       "    </tr>\n",
       "  </tbody>\n",
       "</table>\n",
       "</div>"
      ],
      "text/plain": [
       "       date  binary_mean  binary_squared_mean  binary_sqrt_mean  prob_mean  \\\n",
       "0  1/2/2020       -1.000               -1.000            -1.000     -0.364   \n",
       "1  1/3/2020       -1.000               -1.000            -0.999     -0.479   \n",
       "2  1/5/2020        0.304                0.272             0.319      0.136   \n",
       "3  1/6/2020       -0.372               -0.430            -0.350     -0.388   \n",
       "4  1/7/2020       -0.280               -0.589            -0.180      0.066   \n",
       "\n",
       "   prob_squared_mean  prob_sqrt_mean  \n",
       "0             -0.344          -0.376  \n",
       "1             -0.477          -0.480  \n",
       "2              0.086           0.162  \n",
       "3             -0.437          -0.371  \n",
       "4             -0.007           0.074  "
      ]
     },
     "execution_count": 2,
     "metadata": {},
     "output_type": "execute_result"
    }
   ],
   "source": [
    "facebook_sentiment = pd.read_csv(\"../data/Twitter_sentiment/facebook_sentiment_time_series.csv\")\n",
    "facebook_sentiment.head()"
   ]
  },
  {
   "cell_type": "code",
   "execution_count": 3,
   "metadata": {},
   "outputs": [
    {
     "data": {
      "text/html": [
       "<div>\n",
       "<style scoped>\n",
       "    .dataframe tbody tr th:only-of-type {\n",
       "        vertical-align: middle;\n",
       "    }\n",
       "\n",
       "    .dataframe tbody tr th {\n",
       "        vertical-align: top;\n",
       "    }\n",
       "\n",
       "    .dataframe thead th {\n",
       "        text-align: right;\n",
       "    }\n",
       "</style>\n",
       "<table border=\"1\" class=\"dataframe\">\n",
       "  <thead>\n",
       "    <tr style=\"text-align: right;\">\n",
       "      <th></th>\n",
       "      <th>Unnamed: 0</th>\n",
       "      <th>Date</th>\n",
       "      <th>Pred</th>\n",
       "      <th>Actual</th>\n",
       "    </tr>\n",
       "  </thead>\n",
       "  <tbody>\n",
       "    <tr>\n",
       "      <th>0</th>\n",
       "      <td>1916</td>\n",
       "      <td>1/2/2020</td>\n",
       "      <td>208.330950</td>\n",
       "      <td>209.779999</td>\n",
       "    </tr>\n",
       "    <tr>\n",
       "      <th>1</th>\n",
       "      <td>1917</td>\n",
       "      <td>1/3/2020</td>\n",
       "      <td>212.493704</td>\n",
       "      <td>208.669998</td>\n",
       "    </tr>\n",
       "    <tr>\n",
       "      <th>2</th>\n",
       "      <td>1918</td>\n",
       "      <td>1/6/2020</td>\n",
       "      <td>211.364467</td>\n",
       "      <td>212.600006</td>\n",
       "    </tr>\n",
       "    <tr>\n",
       "      <th>3</th>\n",
       "      <td>1919</td>\n",
       "      <td>1/7/2020</td>\n",
       "      <td>215.023133</td>\n",
       "      <td>213.059998</td>\n",
       "    </tr>\n",
       "    <tr>\n",
       "      <th>4</th>\n",
       "      <td>1920</td>\n",
       "      <td>1/8/2020</td>\n",
       "      <td>215.540427</td>\n",
       "      <td>215.220001</td>\n",
       "    </tr>\n",
       "  </tbody>\n",
       "</table>\n",
       "</div>"
      ],
      "text/plain": [
       "   Unnamed: 0      Date        Pred      Actual\n",
       "0        1916  1/2/2020  208.330950  209.779999\n",
       "1        1917  1/3/2020  212.493704  208.669998\n",
       "2        1918  1/6/2020  211.364467  212.600006\n",
       "3        1919  1/7/2020  215.023133  213.059998\n",
       "4        1920  1/8/2020  215.540427  215.220001"
      ]
     },
     "execution_count": 3,
     "metadata": {},
     "output_type": "execute_result"
    }
   ],
   "source": [
    "facebook_lstm = pd.read_csv(\"../data/LSTM/FB_LSTM_predictions.csv\")\n",
    "facebook_lstm.head()"
   ]
  },
  {
   "cell_type": "code",
   "execution_count": 4,
   "metadata": {},
   "outputs": [],
   "source": [
    "merged = pd.merge(facebook_sentiment, facebook_lstm, left_on='date', right_on='Date')"
   ]
  },
  {
   "cell_type": "code",
   "execution_count": 5,
   "metadata": {},
   "outputs": [],
   "source": [
    "merged_changed = merged[['date', 'prob_sqrt_mean', 'Pred', 'Actual']]\n",
    "merged_changed = merged_changed.dropna()"
   ]
  },
  {
   "cell_type": "code",
   "execution_count": 6,
   "metadata": {},
   "outputs": [
    {
     "data": {
      "text/plain": [
       "array([-0.376, -0.48 , -0.371,  0.074, -0.012, -0.566, -0.113, -0.068,\n",
       "       -0.371, -0.016, -0.045, -0.17 , -0.821,  0.324, -0.206, -0.229,\n",
       "        0.13 , -0.079, -0.139,  0.443,  0.314, -0.378, -0.204, -0.079,\n",
       "       -0.035, -0.008,  0.081,  0.204, -0.765,  0.157,  0.114,  0.13 ,\n",
       "       -0.141, -0.12 ,  0.3  , -0.035, -0.056, -0.468, -0.424, -0.335,\n",
       "       -0.024,  0.075, -0.331, -0.292, -0.493, -0.417,  0.058,  0.101,\n",
       "       -0.528, -0.2  ,  0.262,  0.184,  0.084,  0.422, -0.142,  0.097,\n",
       "        0.653, -0.11 ,  0.121, -0.254,  0.055,  0.716,  0.068, -0.245,\n",
       "        0.078,  0.187, -0.518,  0.196,  0.165, -0.321, -0.42 , -0.187,\n",
       "        0.117,  0.245, -0.208,  0.045,  0.407, -0.275, -0.193,  0.316,\n",
       "       -0.069,  0.005,  0.064,  0.045, -0.073,  0.016, -0.134, -0.121,\n",
       "        0.051,  0.05 ,  0.253, -0.02 ,  0.073, -0.05 ,  0.112, -0.034,\n",
       "       -0.013, -0.101, -0.072, -0.152, -0.133, -0.19 , -0.034, -0.083,\n",
       "        0.042,  0.221, -0.167,  0.025, -0.39 , -0.073, -0.006,  0.148,\n",
       "       -0.118,  0.022, -0.004, -0.253,  0.08 , -0.069, -0.203, -0.186,\n",
       "        0.143,  0.018, -0.283,  0.018, -0.378, -0.248, -0.175, -0.204,\n",
       "       -0.045, -0.114, -0.151, -0.114, -0.048,  0.119,  0.093,  0.028,\n",
       "       -0.157, -0.434, -0.084, -0.189, -0.156, -0.215, -0.08 , -0.215,\n",
       "       -0.07 , -0.046, -0.187, -0.077, -0.36 , -0.316,  0.032, -0.264,\n",
       "       -0.237, -0.147, -0.106, -0.162, -0.26 , -0.16 , -0.037,  0.077,\n",
       "       -0.232, -0.265, -0.46 , -0.232, -0.309, -0.169, -0.411, -0.333,\n",
       "       -0.062, -0.164, -0.142, -0.076, -0.196, -0.104, -0.119, -0.212,\n",
       "       -0.212, -0.103,  0.011, -0.151, -0.027, -0.151, -0.26 , -0.092,\n",
       "       -0.085, -0.291, -0.318, -0.187, -0.195, -0.295,  0.106, -0.154,\n",
       "       -0.085, -0.205, -0.093, -0.175, -0.171, -0.205, -0.188, -0.236,\n",
       "       -0.253, -0.281, -0.272, -0.067, -0.274, -0.081, -0.231, -0.187,\n",
       "        0.146, -0.146, -0.252, -0.333, -0.324, -0.222, -0.381, -0.128,\n",
       "       -0.22 ])"
      ]
     },
     "execution_count": 6,
     "metadata": {},
     "output_type": "execute_result"
    }
   ],
   "source": [
    "inputs_1 = merged_changed.prob_sqrt_mean.values\n",
    "inputs_1"
   ]
  },
  {
   "cell_type": "code",
   "execution_count": 7,
   "metadata": {},
   "outputs": [
    {
     "data": {
      "text/plain": [
       "(217,)"
      ]
     },
     "execution_count": 7,
     "metadata": {},
     "output_type": "execute_result"
    }
   ],
   "source": [
    "inputs_2 = merged_changed.Pred.values\n",
    "inputs_2.shape"
   ]
  },
  {
   "cell_type": "code",
   "execution_count": 8,
   "metadata": {},
   "outputs": [
    {
     "data": {
      "text/plain": [
       "(217, 2)"
      ]
     },
     "execution_count": 8,
     "metadata": {},
     "output_type": "execute_result"
    }
   ],
   "source": [
    "inputs = np.stack((inputs_1, inputs_2), axis=1)\n",
    "inputs.shape"
   ]
  },
  {
   "cell_type": "code",
   "execution_count": 9,
   "metadata": {},
   "outputs": [],
   "source": [
    "targets = merged_changed.iloc[:, 3].values"
   ]
  },
  {
   "cell_type": "markdown",
   "metadata": {},
   "source": [
    "# Fit a model"
   ]
  },
  {
   "cell_type": "code",
   "execution_count": 10,
   "metadata": {},
   "outputs": [
    {
     "name": "stdout",
     "output_type": "stream",
     "text": [
      "                            OLS Regression Results                            \n",
      "==============================================================================\n",
      "Dep. Variable:                      y   R-squared:                       0.970\n",
      "Model:                            OLS   Adj. R-squared:                  0.970\n",
      "Method:                 Least Squares   F-statistic:                     3504.\n",
      "Date:                Mon, 15 Feb 2021   Prob (F-statistic):          3.00e-164\n",
      "Time:                        22:22:13   Log-Likelihood:                -711.79\n",
      "No. Observations:                 217   AIC:                             1430.\n",
      "Df Residuals:                     214   BIC:                             1440.\n",
      "Df Model:                           2                                         \n",
      "Covariance Type:            nonrobust                                         \n",
      "==============================================================================\n",
      "                 coef    std err          t      P>|t|      [0.025      0.975]\n",
      "------------------------------------------------------------------------------\n",
      "const        229.2478      0.440    521.436      0.000     228.381     230.114\n",
      "x1             0.3026      0.462      0.655      0.513      -0.608       1.213\n",
      "x2            36.8966      0.462     79.893      0.000      35.986      37.807\n",
      "==============================================================================\n",
      "Omnibus:                       15.781   Durbin-Watson:                   2.158\n",
      "Prob(Omnibus):                  0.000   Jarque-Bera (JB):               47.782\n",
      "Skew:                          -0.059   Prob(JB):                     4.21e-11\n",
      "Kurtosis:                       5.296   Cond. No.                         1.37\n",
      "==============================================================================\n",
      "\n",
      "Warnings:\n",
      "[1] Standard Errors assume that the covariance matrix of the errors is correctly specified.\n"
     ]
    }
   ],
   "source": [
    "import statsmodels.api as sm\n",
    "from sklearn.preprocessing import StandardScaler\n",
    "\n",
    "sc = StandardScaler()\n",
    "inputs = sc.fit_transform(inputs)\n",
    "\n",
    "inputs = sm.add_constant(inputs)\n",
    "model = sm.OLS(targets, inputs)\n",
    "results = model.fit()\n",
    "print(results.summary())"
   ]
  },
  {
   "cell_type": "markdown",
   "metadata": {},
   "source": [
    "# Save Results"
   ]
  },
  {
   "cell_type": "code",
   "execution_count": 11,
   "metadata": {},
   "outputs": [],
   "source": [
    "predictions = results.predict()"
   ]
  },
  {
   "cell_type": "code",
   "execution_count": 12,
   "metadata": {},
   "outputs": [],
   "source": [
    "facebook_stock_prediction = pd.DataFrame().assign(Date=merged_changed['date'], Predictions=predictions, \n",
    "                                                Actual=merged_changed['Actual'])\n",
    "facebook_stock_prediction.to_csv(\"../Stock Price Predictions with Twitter/facebook_stock_prediction_twitter.csv\")"
   ]
  }
 ],
 "metadata": {
  "kernelspec": {
   "display_name": "Python 3",
   "language": "python",
   "name": "python3"
  },
  "language_info": {
   "codemirror_mode": {
    "name": "ipython",
    "version": 3
   },
   "file_extension": ".py",
   "mimetype": "text/x-python",
   "name": "python",
   "nbconvert_exporter": "python",
   "pygments_lexer": "ipython3",
   "version": "3.7.6"
  }
 },
 "nbformat": 4,
 "nbformat_minor": 2
}
