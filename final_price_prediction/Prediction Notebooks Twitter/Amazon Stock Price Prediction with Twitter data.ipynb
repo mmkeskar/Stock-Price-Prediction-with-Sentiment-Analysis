{
 "cells": [
  {
   "cell_type": "markdown",
   "metadata": {},
   "source": [
    "# Import Relevant Libraries"
   ]
  },
  {
   "cell_type": "code",
   "execution_count": 1,
   "metadata": {},
   "outputs": [],
   "source": [
    "import pandas as pd\n",
    "import numpy as np\n",
    "import matplotlib.pyplot as plt"
   ]
  },
  {
   "cell_type": "markdown",
   "metadata": {},
   "source": [
    "# Prepare inputs and targets"
   ]
  },
  {
   "cell_type": "code",
   "execution_count": 2,
   "metadata": {},
   "outputs": [
    {
     "data": {
      "text/html": [
       "<div>\n",
       "<style scoped>\n",
       "    .dataframe tbody tr th:only-of-type {\n",
       "        vertical-align: middle;\n",
       "    }\n",
       "\n",
       "    .dataframe tbody tr th {\n",
       "        vertical-align: top;\n",
       "    }\n",
       "\n",
       "    .dataframe thead th {\n",
       "        text-align: right;\n",
       "    }\n",
       "</style>\n",
       "<table border=\"1\" class=\"dataframe\">\n",
       "  <thead>\n",
       "    <tr style=\"text-align: right;\">\n",
       "      <th></th>\n",
       "      <th>date</th>\n",
       "      <th>binary_mean</th>\n",
       "      <th>binary_squared_mean</th>\n",
       "      <th>binary_sqrt_mean</th>\n",
       "      <th>prob_mean</th>\n",
       "      <th>prob_squared_mean</th>\n",
       "      <th>prob_sqrt_mean</th>\n",
       "    </tr>\n",
       "  </thead>\n",
       "  <tbody>\n",
       "    <tr>\n",
       "      <th>0</th>\n",
       "      <td>1/2/2020</td>\n",
       "      <td>0.181</td>\n",
       "      <td>0.128</td>\n",
       "      <td>0.222</td>\n",
       "      <td>0.115</td>\n",
       "      <td>0.106</td>\n",
       "      <td>0.131</td>\n",
       "    </tr>\n",
       "    <tr>\n",
       "      <th>1</th>\n",
       "      <td>1/3/2020</td>\n",
       "      <td>0.340</td>\n",
       "      <td>0.328</td>\n",
       "      <td>0.325</td>\n",
       "      <td>0.282</td>\n",
       "      <td>0.271</td>\n",
       "      <td>0.266</td>\n",
       "    </tr>\n",
       "    <tr>\n",
       "      <th>2</th>\n",
       "      <td>1/4/2020</td>\n",
       "      <td>-0.509</td>\n",
       "      <td>-0.734</td>\n",
       "      <td>-0.343</td>\n",
       "      <td>-0.259</td>\n",
       "      <td>-0.447</td>\n",
       "      <td>-0.139</td>\n",
       "    </tr>\n",
       "    <tr>\n",
       "      <th>3</th>\n",
       "      <td>1/5/2020</td>\n",
       "      <td>-0.210</td>\n",
       "      <td>-0.436</td>\n",
       "      <td>-0.101</td>\n",
       "      <td>-0.151</td>\n",
       "      <td>-0.335</td>\n",
       "      <td>-0.067</td>\n",
       "    </tr>\n",
       "    <tr>\n",
       "      <th>4</th>\n",
       "      <td>1/6/2020</td>\n",
       "      <td>0.417</td>\n",
       "      <td>0.149</td>\n",
       "      <td>0.518</td>\n",
       "      <td>0.356</td>\n",
       "      <td>0.280</td>\n",
       "      <td>0.369</td>\n",
       "    </tr>\n",
       "  </tbody>\n",
       "</table>\n",
       "</div>"
      ],
      "text/plain": [
       "       date  binary_mean  binary_squared_mean  binary_sqrt_mean  prob_mean  \\\n",
       "0  1/2/2020        0.181                0.128             0.222      0.115   \n",
       "1  1/3/2020        0.340                0.328             0.325      0.282   \n",
       "2  1/4/2020       -0.509               -0.734            -0.343     -0.259   \n",
       "3  1/5/2020       -0.210               -0.436            -0.101     -0.151   \n",
       "4  1/6/2020        0.417                0.149             0.518      0.356   \n",
       "\n",
       "   prob_squared_mean  prob_sqrt_mean  \n",
       "0              0.106           0.131  \n",
       "1              0.271           0.266  \n",
       "2             -0.447          -0.139  \n",
       "3             -0.335          -0.067  \n",
       "4              0.280           0.369  "
      ]
     },
     "execution_count": 2,
     "metadata": {},
     "output_type": "execute_result"
    }
   ],
   "source": [
    "amazon_sentiment = pd.read_csv(\"../data/Twitter_sentiment/amazon_sentiment_time_series.csv\")\n",
    "amazon_sentiment.head()"
   ]
  },
  {
   "cell_type": "code",
   "execution_count": 3,
   "metadata": {},
   "outputs": [
    {
     "data": {
      "text/html": [
       "<div>\n",
       "<style scoped>\n",
       "    .dataframe tbody tr th:only-of-type {\n",
       "        vertical-align: middle;\n",
       "    }\n",
       "\n",
       "    .dataframe tbody tr th {\n",
       "        vertical-align: top;\n",
       "    }\n",
       "\n",
       "    .dataframe thead th {\n",
       "        text-align: right;\n",
       "    }\n",
       "</style>\n",
       "<table border=\"1\" class=\"dataframe\">\n",
       "  <thead>\n",
       "    <tr style=\"text-align: right;\">\n",
       "      <th></th>\n",
       "      <th>Unnamed: 0</th>\n",
       "      <th>Date</th>\n",
       "      <th>Pred</th>\n",
       "      <th>Actual</th>\n",
       "    </tr>\n",
       "  </thead>\n",
       "  <tbody>\n",
       "    <tr>\n",
       "      <th>0</th>\n",
       "      <td>5694</td>\n",
       "      <td>1/2/2020</td>\n",
       "      <td>1871.227816</td>\n",
       "      <td>1898.010010</td>\n",
       "    </tr>\n",
       "    <tr>\n",
       "      <th>1</th>\n",
       "      <td>5695</td>\n",
       "      <td>1/3/2020</td>\n",
       "      <td>1918.217786</td>\n",
       "      <td>1874.969971</td>\n",
       "    </tr>\n",
       "    <tr>\n",
       "      <th>2</th>\n",
       "      <td>5696</td>\n",
       "      <td>1/6/2020</td>\n",
       "      <td>1893.154644</td>\n",
       "      <td>1902.880005</td>\n",
       "    </tr>\n",
       "    <tr>\n",
       "      <th>3</th>\n",
       "      <td>5697</td>\n",
       "      <td>1/7/2020</td>\n",
       "      <td>1925.583281</td>\n",
       "      <td>1906.859985</td>\n",
       "    </tr>\n",
       "    <tr>\n",
       "      <th>4</th>\n",
       "      <td>5698</td>\n",
       "      <td>1/8/2020</td>\n",
       "      <td>1924.934127</td>\n",
       "      <td>1891.969971</td>\n",
       "    </tr>\n",
       "  </tbody>\n",
       "</table>\n",
       "</div>"
      ],
      "text/plain": [
       "   Unnamed: 0      Date         Pred       Actual\n",
       "0        5694  1/2/2020  1871.227816  1898.010010\n",
       "1        5695  1/3/2020  1918.217786  1874.969971\n",
       "2        5696  1/6/2020  1893.154644  1902.880005\n",
       "3        5697  1/7/2020  1925.583281  1906.859985\n",
       "4        5698  1/8/2020  1924.934127  1891.969971"
      ]
     },
     "execution_count": 3,
     "metadata": {},
     "output_type": "execute_result"
    }
   ],
   "source": [
    "amazon_lstm = pd.read_csv(\"../data/LSTM/AMZN_LSTM_predictions.csv\")\n",
    "amazon_lstm.head()"
   ]
  },
  {
   "cell_type": "code",
   "execution_count": 4,
   "metadata": {},
   "outputs": [],
   "source": [
    "merged = pd.merge(amazon_sentiment, amazon_lstm, left_on='date', right_on='Date')"
   ]
  },
  {
   "cell_type": "code",
   "execution_count": 5,
   "metadata": {},
   "outputs": [],
   "source": [
    "merged_changed = merged[['date', 'prob_sqrt_mean', 'Pred', 'Actual']]\n",
    "merged_changed = merged_changed.dropna()"
   ]
  },
  {
   "cell_type": "code",
   "execution_count": 6,
   "metadata": {},
   "outputs": [
    {
     "data": {
      "text/plain": [
       "array([ 0.131,  0.266,  0.369,  0.057,  0.132,  0.196,  0.205,  0.203,\n",
       "        0.246,  0.2  ,  0.324,  0.224,  0.459,  0.053,  0.241,  0.127,\n",
       "        0.113,  0.192,  0.567,  0.273,  0.473,  0.342,  0.35 ,  0.275,\n",
       "        0.228,  0.035,  0.625,  0.129,  0.264,  0.026,  0.076,  0.379,\n",
       "        0.158,  0.143,  0.421, -0.001,  0.179,  0.221,  0.464,  0.391,\n",
       "        0.199,  0.225,  0.238,  0.291,  0.301,  0.63 ,  0.483,  0.455,\n",
       "       -0.088, -0.241,  0.37 ,  0.086,  0.305,  0.104,  0.069,  0.089,\n",
       "        0.04 ,  0.237,  0.198,  0.396,  0.12 ,  0.206, -0.195,  0.327,\n",
       "        0.015,  0.234,  0.406,  0.542,  0.074,  0.366,  0.342,  0.337,\n",
       "        0.152, -0.25 ,  0.1  ,  0.099,  0.298,  0.334,  0.215,  0.148,\n",
       "        0.248,  0.031,  0.196, -0.038,  0.199,  0.327,  0.277,  0.192,\n",
       "        0.159,  0.084,  0.38 ,  0.225,  0.081, -0.012,  0.367,  0.097,\n",
       "        0.204,  0.237,  0.186,  0.16 ,  0.293,  0.139,  0.344,  0.202,\n",
       "        0.111,  0.223,  0.15 ,  0.134,  0.151,  0.239,  0.095,  0.16 ,\n",
       "        0.322,  0.311,  0.212,  0.114,  0.017,  0.328,  0.228,  0.306,\n",
       "        0.325,  0.184,  0.038,  0.281,  0.42 ,  0.32 ,  0.174,  0.341,\n",
       "        0.113,  0.053,  0.315,  0.182,  0.072,  0.209,  0.207,  0.48 ,\n",
       "        0.279,  0.013,  0.2  ,  0.322,  0.289,  0.34 ,  0.171,  0.357,\n",
       "        0.146,  0.047,  0.273,  0.27 ,  0.302,  0.354,  0.307,  0.223,\n",
       "        0.184, -0.018,  0.112,  0.02 ,  0.085,  0.033, -0.03 , -0.04 ,\n",
       "        0.128,  0.024,  0.226,  0.199,  0.167,  0.154,  0.16 ,  0.398,\n",
       "        0.37 ,  0.216,  0.23 ,  0.452,  0.402,  0.154,  0.225,  0.157,\n",
       "        0.565,  0.279,  0.237,  0.118,  0.187,  0.133,  0.112,  0.451,\n",
       "        0.253,  0.224,  0.333,  0.351,  0.333,  0.199,  0.252,  0.262,\n",
       "        0.254,  0.207,  0.267,  0.257,  0.287,  0.274,  0.242,  0.189,\n",
       "        0.165,  0.236,  0.063,  0.664,  0.262,  0.136,  0.283,  0.323,\n",
       "        0.335,  0.258,  0.278,  0.276,  0.353,  0.268,  0.208,  0.275,\n",
       "        0.107,  0.162,  0.133,  0.006,  0.477])"
      ]
     },
     "execution_count": 6,
     "metadata": {},
     "output_type": "execute_result"
    }
   ],
   "source": [
    "inputs_1 = merged_changed.prob_sqrt_mean.values\n",
    "inputs_1"
   ]
  },
  {
   "cell_type": "code",
   "execution_count": 7,
   "metadata": {},
   "outputs": [
    {
     "data": {
      "text/plain": [
       "(221,)"
      ]
     },
     "execution_count": 7,
     "metadata": {},
     "output_type": "execute_result"
    }
   ],
   "source": [
    "inputs_2 = merged_changed.Pred.values\n",
    "inputs_2.shape"
   ]
  },
  {
   "cell_type": "code",
   "execution_count": 8,
   "metadata": {},
   "outputs": [
    {
     "data": {
      "text/plain": [
       "(221, 2)"
      ]
     },
     "execution_count": 8,
     "metadata": {},
     "output_type": "execute_result"
    }
   ],
   "source": [
    "inputs = np.stack((inputs_1, inputs_2), axis=1)\n",
    "inputs.shape"
   ]
  },
  {
   "cell_type": "code",
   "execution_count": 9,
   "metadata": {},
   "outputs": [],
   "source": [
    "targets = merged_changed.iloc[:, 3].values"
   ]
  },
  {
   "cell_type": "markdown",
   "metadata": {},
   "source": [
    "# Fit a model"
   ]
  },
  {
   "cell_type": "code",
   "execution_count": 10,
   "metadata": {},
   "outputs": [
    {
     "name": "stdout",
     "output_type": "stream",
     "text": [
      "                            OLS Regression Results                            \n",
      "==============================================================================\n",
      "Dep. Variable:                      y   R-squared:                       0.985\n",
      "Model:                            OLS   Adj. R-squared:                  0.985\n",
      "Method:                 Least Squares   F-statistic:                     7354.\n",
      "Date:                Mon, 15 Feb 2021   Prob (F-statistic):          8.57e-201\n",
      "Time:                        22:15:51   Log-Likelihood:                -1239.5\n",
      "No. Observations:                 221   AIC:                             2485.\n",
      "Df Residuals:                     218   BIC:                             2495.\n",
      "Df Model:                           2                                         \n",
      "Covariance Type:            nonrobust                                         \n",
      "==============================================================================\n",
      "                 coef    std err          t      P>|t|      [0.025      0.975]\n",
      "------------------------------------------------------------------------------\n",
      "const       2608.8341      4.469    583.719      0.000    2600.025    2617.643\n",
      "x1            -0.2323      4.470     -0.052      0.959      -9.042       8.577\n",
      "x2           542.0215      4.470    121.262      0.000     533.212     550.831\n",
      "==============================================================================\n",
      "Omnibus:                        4.422   Durbin-Watson:                   2.090\n",
      "Prob(Omnibus):                  0.110   Jarque-Bera (JB):                5.407\n",
      "Skew:                           0.107   Prob(JB):                       0.0670\n",
      "Kurtosis:                       3.736   Cond. No.                         1.02\n",
      "==============================================================================\n",
      "\n",
      "Warnings:\n",
      "[1] Standard Errors assume that the covariance matrix of the errors is correctly specified.\n"
     ]
    }
   ],
   "source": [
    "import statsmodels.api as sm\n",
    "from sklearn.preprocessing import StandardScaler\n",
    "\n",
    "sc = StandardScaler()\n",
    "inputs = sc.fit_transform(inputs)\n",
    "\n",
    "inputs = sm.add_constant(inputs)\n",
    "model = sm.OLS(targets, inputs)\n",
    "results = model.fit()\n",
    "print(results.summary())"
   ]
  },
  {
   "cell_type": "markdown",
   "metadata": {},
   "source": [
    "# Save Results"
   ]
  },
  {
   "cell_type": "code",
   "execution_count": 11,
   "metadata": {},
   "outputs": [],
   "source": [
    "predictions = results.predict()"
   ]
  },
  {
   "cell_type": "code",
   "execution_count": 12,
   "metadata": {},
   "outputs": [],
   "source": [
    "amazon_stock_prediction = pd.DataFrame().assign(Date=merged_changed['date'], Predictions=predictions, \n",
    "                                                Actual=merged_changed['Actual'])\n",
    "amazon_stock_prediction.to_csv(\"../Stock Price Predictions with Twitter/amazon_stock_prediction_twitter.csv\")"
   ]
  }
 ],
 "metadata": {
  "kernelspec": {
   "display_name": "Python 3",
   "language": "python",
   "name": "python3"
  },
  "language_info": {
   "codemirror_mode": {
    "name": "ipython",
    "version": 3
   },
   "file_extension": ".py",
   "mimetype": "text/x-python",
   "name": "python",
   "nbconvert_exporter": "python",
   "pygments_lexer": "ipython3",
   "version": "3.7.6"
  }
 },
 "nbformat": 4,
 "nbformat_minor": 2
}
