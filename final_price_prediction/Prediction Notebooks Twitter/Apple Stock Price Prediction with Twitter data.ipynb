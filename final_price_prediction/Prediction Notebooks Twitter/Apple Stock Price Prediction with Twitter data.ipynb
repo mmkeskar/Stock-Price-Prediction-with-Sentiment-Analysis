{
 "cells": [
  {
   "cell_type": "markdown",
   "metadata": {},
   "source": [
    "# Import Relevant Libraries"
   ]
  },
  {
   "cell_type": "code",
   "execution_count": 1,
   "metadata": {},
   "outputs": [],
   "source": [
    "import pandas as pd\n",
    "import numpy as np\n",
    "import matplotlib.pyplot as plt"
   ]
  },
  {
   "cell_type": "markdown",
   "metadata": {},
   "source": [
    "# Prepare inputs and targets"
   ]
  },
  {
   "cell_type": "code",
   "execution_count": 2,
   "metadata": {},
   "outputs": [
    {
     "data": {
      "text/html": [
       "<div>\n",
       "<style scoped>\n",
       "    .dataframe tbody tr th:only-of-type {\n",
       "        vertical-align: middle;\n",
       "    }\n",
       "\n",
       "    .dataframe tbody tr th {\n",
       "        vertical-align: top;\n",
       "    }\n",
       "\n",
       "    .dataframe thead th {\n",
       "        text-align: right;\n",
       "    }\n",
       "</style>\n",
       "<table border=\"1\" class=\"dataframe\">\n",
       "  <thead>\n",
       "    <tr style=\"text-align: right;\">\n",
       "      <th></th>\n",
       "      <th>date</th>\n",
       "      <th>binary_mean</th>\n",
       "      <th>binary_squared_mean</th>\n",
       "      <th>binary_sqrt_mean</th>\n",
       "      <th>prob_mean</th>\n",
       "      <th>prob_squared_mean</th>\n",
       "      <th>prob_sqrt_mean</th>\n",
       "    </tr>\n",
       "  </thead>\n",
       "  <tbody>\n",
       "    <tr>\n",
       "      <th>0</th>\n",
       "      <td>1/2/2020</td>\n",
       "      <td>1.000</td>\n",
       "      <td>1.000</td>\n",
       "      <td>1.000</td>\n",
       "      <td>0.587</td>\n",
       "      <td>0.640</td>\n",
       "      <td>0.564</td>\n",
       "    </tr>\n",
       "    <tr>\n",
       "      <th>1</th>\n",
       "      <td>1/3/2020</td>\n",
       "      <td>0.466</td>\n",
       "      <td>0.689</td>\n",
       "      <td>0.335</td>\n",
       "      <td>0.216</td>\n",
       "      <td>0.300</td>\n",
       "      <td>0.160</td>\n",
       "    </tr>\n",
       "    <tr>\n",
       "      <th>2</th>\n",
       "      <td>1/4/2020</td>\n",
       "      <td>0.476</td>\n",
       "      <td>0.715</td>\n",
       "      <td>0.337</td>\n",
       "      <td>0.348</td>\n",
       "      <td>0.471</td>\n",
       "      <td>0.271</td>\n",
       "    </tr>\n",
       "    <tr>\n",
       "      <th>3</th>\n",
       "      <td>1/5/2020</td>\n",
       "      <td>0.781</td>\n",
       "      <td>0.942</td>\n",
       "      <td>0.603</td>\n",
       "      <td>0.626</td>\n",
       "      <td>0.760</td>\n",
       "      <td>0.476</td>\n",
       "    </tr>\n",
       "    <tr>\n",
       "      <th>4</th>\n",
       "      <td>1/6/2020</td>\n",
       "      <td>-0.431</td>\n",
       "      <td>-0.201</td>\n",
       "      <td>-0.553</td>\n",
       "      <td>-0.149</td>\n",
       "      <td>0.075</td>\n",
       "      <td>-0.275</td>\n",
       "    </tr>\n",
       "  </tbody>\n",
       "</table>\n",
       "</div>"
      ],
      "text/plain": [
       "       date  binary_mean  binary_squared_mean  binary_sqrt_mean  prob_mean  \\\n",
       "0  1/2/2020        1.000                1.000             1.000      0.587   \n",
       "1  1/3/2020        0.466                0.689             0.335      0.216   \n",
       "2  1/4/2020        0.476                0.715             0.337      0.348   \n",
       "3  1/5/2020        0.781                0.942             0.603      0.626   \n",
       "4  1/6/2020       -0.431               -0.201            -0.553     -0.149   \n",
       "\n",
       "   prob_squared_mean  prob_sqrt_mean  \n",
       "0              0.640           0.564  \n",
       "1              0.300           0.160  \n",
       "2              0.471           0.271  \n",
       "3              0.760           0.476  \n",
       "4              0.075          -0.275  "
      ]
     },
     "execution_count": 2,
     "metadata": {},
     "output_type": "execute_result"
    }
   ],
   "source": [
    "apple_sentiment = pd.read_csv(\"../data/Twitter_sentiment/apple_sentiment_time_series.csv\")\n",
    "apple_sentiment.head()"
   ]
  },
  {
   "cell_type": "code",
   "execution_count": 3,
   "metadata": {},
   "outputs": [
    {
     "data": {
      "text/html": [
       "<div>\n",
       "<style scoped>\n",
       "    .dataframe tbody tr th:only-of-type {\n",
       "        vertical-align: middle;\n",
       "    }\n",
       "\n",
       "    .dataframe tbody tr th {\n",
       "        vertical-align: top;\n",
       "    }\n",
       "\n",
       "    .dataframe thead th {\n",
       "        text-align: right;\n",
       "    }\n",
       "</style>\n",
       "<table border=\"1\" class=\"dataframe\">\n",
       "  <thead>\n",
       "    <tr style=\"text-align: right;\">\n",
       "      <th></th>\n",
       "      <th>Unnamed: 0</th>\n",
       "      <th>Date</th>\n",
       "      <th>Pred</th>\n",
       "      <th>Actual</th>\n",
       "    </tr>\n",
       "  </thead>\n",
       "  <tbody>\n",
       "    <tr>\n",
       "      <th>0</th>\n",
       "      <td>7559</td>\n",
       "      <td>1/2/2020</td>\n",
       "      <td>71.986710</td>\n",
       "      <td>74.444603</td>\n",
       "    </tr>\n",
       "    <tr>\n",
       "      <th>1</th>\n",
       "      <td>7560</td>\n",
       "      <td>1/3/2020</td>\n",
       "      <td>73.601325</td>\n",
       "      <td>73.720840</td>\n",
       "    </tr>\n",
       "    <tr>\n",
       "      <th>2</th>\n",
       "      <td>7561</td>\n",
       "      <td>1/6/2020</td>\n",
       "      <td>72.764445</td>\n",
       "      <td>74.308266</td>\n",
       "    </tr>\n",
       "    <tr>\n",
       "      <th>3</th>\n",
       "      <td>7562</td>\n",
       "      <td>1/7/2020</td>\n",
       "      <td>73.520607</td>\n",
       "      <td>73.958794</td>\n",
       "    </tr>\n",
       "    <tr>\n",
       "      <th>4</th>\n",
       "      <td>7563</td>\n",
       "      <td>1/8/2020</td>\n",
       "      <td>73.079492</td>\n",
       "      <td>75.148521</td>\n",
       "    </tr>\n",
       "  </tbody>\n",
       "</table>\n",
       "</div>"
      ],
      "text/plain": [
       "   Unnamed: 0      Date       Pred     Actual\n",
       "0        7559  1/2/2020  71.986710  74.444603\n",
       "1        7560  1/3/2020  73.601325  73.720840\n",
       "2        7561  1/6/2020  72.764445  74.308266\n",
       "3        7562  1/7/2020  73.520607  73.958794\n",
       "4        7563  1/8/2020  73.079492  75.148521"
      ]
     },
     "execution_count": 3,
     "metadata": {},
     "output_type": "execute_result"
    }
   ],
   "source": [
    "apple_lstm = pd.read_csv(\"../data/LSTM/AAPL_LSTM_predictions.csv\")\n",
    "apple_lstm.head()"
   ]
  },
  {
   "cell_type": "code",
   "execution_count": 4,
   "metadata": {},
   "outputs": [],
   "source": [
    "merged = pd.merge(apple_sentiment, apple_lstm, left_on='date', right_on='Date')"
   ]
  },
  {
   "cell_type": "code",
   "execution_count": 5,
   "metadata": {},
   "outputs": [],
   "source": [
    "merged_changed = merged[['date', 'prob_sqrt_mean', 'Pred', 'Actual']]\n",
    "merged_changed = merged_changed.dropna()"
   ]
  },
  {
   "cell_type": "code",
   "execution_count": 6,
   "metadata": {},
   "outputs": [
    {
     "data": {
      "text/plain": [
       "array([ 0.564,  0.16 , -0.275,  0.285,  0.729,  0.416,  0.395, -0.073,\n",
       "        0.187, -0.285,  0.015,  0.372,  0.351,  0.148,  0.492,  0.208,\n",
       "        0.498, -0.35 ,  0.304,  0.136,  0.342,  0.252,  0.247,  0.152,\n",
       "       -0.071,  0.484,  0.501,  0.419,  0.079,  0.741,  0.354,  0.417,\n",
       "        0.049,  0.201,  0.57 ,  0.567,  0.44 ,  0.334,  0.259,  0.76 ,\n",
       "        0.116,  0.308,  0.499,  0.055,  0.468,  0.574,  0.314, -0.66 ,\n",
       "        0.677,  0.518,  0.571,  0.358,  0.585,  0.023, -0.02 ,  0.243,\n",
       "        0.192, -0.143,  0.04 ,  0.489,  0.151, -0.059,  0.259,  0.215,\n",
       "        0.294,  0.408,  0.27 ,  0.509,  0.416,  0.131,  0.474,  0.003,\n",
       "       -0.51 ,  0.187,  0.039,  0.46 , -0.011,  0.046,  0.111,  0.663,\n",
       "        0.217, -0.224,  0.597,  0.302,  0.153, -0.147,  0.114,  0.367,\n",
       "        0.118,  0.338,  0.274, -0.055,  0.097,  0.082, -0.355,  0.05 ,\n",
       "       -0.197,  0.034,  0.042,  0.022,  0.245, -0.27 ,  0.021,  0.442,\n",
       "        0.01 , -0.033, -0.023, -0.02 ,  0.105, -0.301, -0.549, -0.053,\n",
       "       -0.291,  0.104,  0.395,  0.323, -0.055, -0.009,  0.804,  0.01 ,\n",
       "        0.155,  0.295,  0.326,  0.399,  0.153, -0.278,  0.498, -0.413,\n",
       "       -0.022, -0.24 ,  0.427,  0.213, -0.021, -0.074,  0.114, -0.073,\n",
       "        0.02 , -0.027,  0.253,  0.113, -0.011,  0.384,  0.367,  0.341,\n",
       "       -0.054, -0.218,  0.096, -0.459, -0.05 , -0.043,  0.166,  0.231,\n",
       "        0.108,  0.042, -0.074,  0.125, -0.043,  0.067, -0.131,  0.24 ,\n",
       "        0.062,  0.278,  0.189,  0.211, -0.131,  0.154, -0.122, -0.043,\n",
       "        0.458,  0.371,  0.104,  0.121, -0.051,  0.141,  0.044,  0.223,\n",
       "       -0.025,  0.073,  0.044,  0.067, -0.217, -0.288, -0.102, -0.026,\n",
       "       -0.152, -0.202, -0.101,  0.106, -0.204,  0.061,  0.158,  0.377,\n",
       "        0.249,  0.011,  0.015, -0.024,  0.012,  0.774, -0.073,  0.161,\n",
       "        0.233, -0.169, -0.163,  0.059,  0.317,  0.08 , -0.233, -0.018,\n",
       "        0.401,  0.036, -0.152, -0.118, -0.086,  0.31 , -0.161, -0.144,\n",
       "       -0.387,  0.556, -0.073, -0.272, -0.044])"
      ]
     },
     "execution_count": 6,
     "metadata": {},
     "output_type": "execute_result"
    }
   ],
   "source": [
    "inputs_1 = merged_changed.prob_sqrt_mean.values\n",
    "inputs_1"
   ]
  },
  {
   "cell_type": "code",
   "execution_count": 7,
   "metadata": {},
   "outputs": [
    {
     "data": {
      "text/plain": [
       "(221,)"
      ]
     },
     "execution_count": 7,
     "metadata": {},
     "output_type": "execute_result"
    }
   ],
   "source": [
    "inputs_2 = merged_changed.Pred.values\n",
    "inputs_2.shape"
   ]
  },
  {
   "cell_type": "code",
   "execution_count": 8,
   "metadata": {},
   "outputs": [
    {
     "data": {
      "text/plain": [
       "(221, 2)"
      ]
     },
     "execution_count": 8,
     "metadata": {},
     "output_type": "execute_result"
    }
   ],
   "source": [
    "inputs = np.stack((inputs_1, inputs_2), axis=1)\n",
    "inputs.shape"
   ]
  },
  {
   "cell_type": "code",
   "execution_count": 9,
   "metadata": {},
   "outputs": [],
   "source": [
    "targets = merged_changed.iloc[:, 3].values"
   ]
  },
  {
   "cell_type": "markdown",
   "metadata": {},
   "source": [
    "# Fit a model"
   ]
  },
  {
   "cell_type": "code",
   "execution_count": 10,
   "metadata": {},
   "outputs": [
    {
     "name": "stdout",
     "output_type": "stream",
     "text": [
      "                            OLS Regression Results                            \n",
      "==============================================================================\n",
      "Dep. Variable:                      y   R-squared:                       0.982\n",
      "Model:                            OLS   Adj. R-squared:                  0.982\n",
      "Method:                 Least Squares   F-statistic:                     6111.\n",
      "Date:                Mon, 15 Feb 2021   Prob (F-statistic):          3.60e-192\n",
      "Time:                        22:20:12   Log-Likelihood:                -529.64\n",
      "No. Observations:                 221   AIC:                             1065.\n",
      "Df Residuals:                     218   BIC:                             1075.\n",
      "Df Model:                           2                                         \n",
      "Covariance Type:            nonrobust                                         \n",
      "==============================================================================\n",
      "                 coef    std err          t      P>|t|      [0.025      0.975]\n",
      "------------------------------------------------------------------------------\n",
      "const         90.8204      0.180    504.463      0.000      90.466      91.175\n",
      "x1            -0.3400      0.187     -1.823      0.070      -0.708       0.028\n",
      "x2            19.8114      0.187    106.200      0.000      19.444      20.179\n",
      "==============================================================================\n",
      "Omnibus:                       16.107   Durbin-Watson:                   2.409\n",
      "Prob(Omnibus):                  0.000   Jarque-Bera (JB):               46.767\n",
      "Skew:                          -0.130   Prob(JB):                     6.99e-11\n",
      "Kurtosis:                       5.239   Cond. No.                         1.31\n",
      "==============================================================================\n",
      "\n",
      "Warnings:\n",
      "[1] Standard Errors assume that the covariance matrix of the errors is correctly specified.\n"
     ]
    }
   ],
   "source": [
    "import statsmodels.api as sm\n",
    "from sklearn.preprocessing import StandardScaler\n",
    "\n",
    "sc = StandardScaler()\n",
    "inputs = sc.fit_transform(inputs)\n",
    "\n",
    "inputs = sm.add_constant(inputs)\n",
    "model = sm.OLS(targets, inputs)\n",
    "results = model.fit()\n",
    "print(results.summary())"
   ]
  },
  {
   "cell_type": "markdown",
   "metadata": {},
   "source": [
    "# Save Results"
   ]
  },
  {
   "cell_type": "code",
   "execution_count": 11,
   "metadata": {},
   "outputs": [],
   "source": [
    "predictions = results.predict()"
   ]
  },
  {
   "cell_type": "code",
   "execution_count": 12,
   "metadata": {},
   "outputs": [],
   "source": [
    "apple_stock_prediction = pd.DataFrame().assign(Date=merged_changed['date'], Predictions=predictions, \n",
    "                                                Actual=merged_changed['Actual'])\n",
    "apple_stock_prediction.to_csv(\"../Stock Price Predictions with Twitter/apple_stock_prediction_twitter.csv\")"
   ]
  }
 ],
 "metadata": {
  "kernelspec": {
   "display_name": "Python 3",
   "language": "python",
   "name": "python3"
  },
  "language_info": {
   "codemirror_mode": {
    "name": "ipython",
    "version": 3
   },
   "file_extension": ".py",
   "mimetype": "text/x-python",
   "name": "python",
   "nbconvert_exporter": "python",
   "pygments_lexer": "ipython3",
   "version": "3.7.6"
  }
 },
 "nbformat": 4,
 "nbformat_minor": 2
}
