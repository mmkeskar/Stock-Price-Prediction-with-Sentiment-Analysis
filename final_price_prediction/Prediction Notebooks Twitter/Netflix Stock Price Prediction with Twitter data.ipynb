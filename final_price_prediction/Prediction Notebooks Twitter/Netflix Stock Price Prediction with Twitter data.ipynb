{
 "cells": [
  {
   "cell_type": "markdown",
   "metadata": {},
   "source": [
    "# Import Relevant Libraries"
   ]
  },
  {
   "cell_type": "code",
   "execution_count": 1,
   "metadata": {},
   "outputs": [],
   "source": [
    "import pandas as pd\n",
    "import numpy as np\n",
    "import matplotlib.pyplot as plt"
   ]
  },
  {
   "cell_type": "markdown",
   "metadata": {},
   "source": [
    "# Prepare inputs and targets"
   ]
  },
  {
   "cell_type": "code",
   "execution_count": 2,
   "metadata": {},
   "outputs": [
    {
     "data": {
      "text/html": [
       "<div>\n",
       "<style scoped>\n",
       "    .dataframe tbody tr th:only-of-type {\n",
       "        vertical-align: middle;\n",
       "    }\n",
       "\n",
       "    .dataframe tbody tr th {\n",
       "        vertical-align: top;\n",
       "    }\n",
       "\n",
       "    .dataframe thead th {\n",
       "        text-align: right;\n",
       "    }\n",
       "</style>\n",
       "<table border=\"1\" class=\"dataframe\">\n",
       "  <thead>\n",
       "    <tr style=\"text-align: right;\">\n",
       "      <th></th>\n",
       "      <th>date</th>\n",
       "      <th>binary_mean</th>\n",
       "      <th>binary_squared_mean</th>\n",
       "      <th>binary_sqrt_mean</th>\n",
       "      <th>prob_mean</th>\n",
       "      <th>prob_squared_mean</th>\n",
       "      <th>prob_sqrt_mean</th>\n",
       "    </tr>\n",
       "  </thead>\n",
       "  <tbody>\n",
       "    <tr>\n",
       "      <th>0</th>\n",
       "      <td>1/2/2020</td>\n",
       "      <td>0.509</td>\n",
       "      <td>0.604</td>\n",
       "      <td>0.453</td>\n",
       "      <td>0.351</td>\n",
       "      <td>0.401</td>\n",
       "      <td>0.322</td>\n",
       "    </tr>\n",
       "    <tr>\n",
       "      <th>1</th>\n",
       "      <td>1/3/2020</td>\n",
       "      <td>0.055</td>\n",
       "      <td>0.037</td>\n",
       "      <td>0.079</td>\n",
       "      <td>0.050</td>\n",
       "      <td>0.053</td>\n",
       "      <td>0.066</td>\n",
       "    </tr>\n",
       "    <tr>\n",
       "      <th>2</th>\n",
       "      <td>1/4/2020</td>\n",
       "      <td>-0.169</td>\n",
       "      <td>-0.048</td>\n",
       "      <td>-0.228</td>\n",
       "      <td>-0.074</td>\n",
       "      <td>-0.010</td>\n",
       "      <td>-0.111</td>\n",
       "    </tr>\n",
       "    <tr>\n",
       "      <th>3</th>\n",
       "      <td>1/5/2020</td>\n",
       "      <td>0.058</td>\n",
       "      <td>0.163</td>\n",
       "      <td>0.000</td>\n",
       "      <td>0.123</td>\n",
       "      <td>0.172</td>\n",
       "      <td>0.096</td>\n",
       "    </tr>\n",
       "    <tr>\n",
       "      <th>4</th>\n",
       "      <td>1/6/2020</td>\n",
       "      <td>0.420</td>\n",
       "      <td>0.408</td>\n",
       "      <td>0.427</td>\n",
       "      <td>0.328</td>\n",
       "      <td>0.361</td>\n",
       "      <td>0.320</td>\n",
       "    </tr>\n",
       "  </tbody>\n",
       "</table>\n",
       "</div>"
      ],
      "text/plain": [
       "       date  binary_mean  binary_squared_mean  binary_sqrt_mean  prob_mean  \\\n",
       "0  1/2/2020        0.509                0.604             0.453      0.351   \n",
       "1  1/3/2020        0.055                0.037             0.079      0.050   \n",
       "2  1/4/2020       -0.169               -0.048            -0.228     -0.074   \n",
       "3  1/5/2020        0.058                0.163             0.000      0.123   \n",
       "4  1/6/2020        0.420                0.408             0.427      0.328   \n",
       "\n",
       "   prob_squared_mean  prob_sqrt_mean  \n",
       "0              0.401           0.322  \n",
       "1              0.053           0.066  \n",
       "2             -0.010          -0.111  \n",
       "3              0.172           0.096  \n",
       "4              0.361           0.320  "
      ]
     },
     "execution_count": 2,
     "metadata": {},
     "output_type": "execute_result"
    }
   ],
   "source": [
    "netflix_sentiment = pd.read_csv(\"../data/Twitter_sentiment/netflix_sentiment_time_series.csv\")\n",
    "netflix_sentiment.head()"
   ]
  },
  {
   "cell_type": "code",
   "execution_count": 3,
   "metadata": {},
   "outputs": [
    {
     "data": {
      "text/html": [
       "<div>\n",
       "<style scoped>\n",
       "    .dataframe tbody tr th:only-of-type {\n",
       "        vertical-align: middle;\n",
       "    }\n",
       "\n",
       "    .dataframe tbody tr th {\n",
       "        vertical-align: top;\n",
       "    }\n",
       "\n",
       "    .dataframe thead th {\n",
       "        text-align: right;\n",
       "    }\n",
       "</style>\n",
       "<table border=\"1\" class=\"dataframe\">\n",
       "  <thead>\n",
       "    <tr style=\"text-align: right;\">\n",
       "      <th></th>\n",
       "      <th>Unnamed: 0</th>\n",
       "      <th>Date</th>\n",
       "      <th>Pred</th>\n",
       "      <th>Actual</th>\n",
       "    </tr>\n",
       "  </thead>\n",
       "  <tbody>\n",
       "    <tr>\n",
       "      <th>0</th>\n",
       "      <td>4432</td>\n",
       "      <td>1/2/2020</td>\n",
       "      <td>322.256573</td>\n",
       "      <td>329.809998</td>\n",
       "    </tr>\n",
       "    <tr>\n",
       "      <th>1</th>\n",
       "      <td>4433</td>\n",
       "      <td>1/3/2020</td>\n",
       "      <td>328.395893</td>\n",
       "      <td>325.899994</td>\n",
       "    </tr>\n",
       "    <tr>\n",
       "      <th>2</th>\n",
       "      <td>4434</td>\n",
       "      <td>1/6/2020</td>\n",
       "      <td>323.763554</td>\n",
       "      <td>335.829987</td>\n",
       "    </tr>\n",
       "    <tr>\n",
       "      <th>3</th>\n",
       "      <td>4435</td>\n",
       "      <td>1/7/2020</td>\n",
       "      <td>333.938432</td>\n",
       "      <td>330.750000</td>\n",
       "    </tr>\n",
       "    <tr>\n",
       "      <th>4</th>\n",
       "      <td>4436</td>\n",
       "      <td>1/8/2020</td>\n",
       "      <td>328.003192</td>\n",
       "      <td>339.260010</td>\n",
       "    </tr>\n",
       "  </tbody>\n",
       "</table>\n",
       "</div>"
      ],
      "text/plain": [
       "   Unnamed: 0      Date        Pred      Actual\n",
       "0        4432  1/2/2020  322.256573  329.809998\n",
       "1        4433  1/3/2020  328.395893  325.899994\n",
       "2        4434  1/6/2020  323.763554  335.829987\n",
       "3        4435  1/7/2020  333.938432  330.750000\n",
       "4        4436  1/8/2020  328.003192  339.260010"
      ]
     },
     "execution_count": 3,
     "metadata": {},
     "output_type": "execute_result"
    }
   ],
   "source": [
    "netflix_lstm = pd.read_csv(\"../data/LSTM/NFLX_LSTM_predictions.csv\")\n",
    "netflix_lstm.head()"
   ]
  },
  {
   "cell_type": "code",
   "execution_count": 4,
   "metadata": {},
   "outputs": [],
   "source": [
    "merged = pd.merge(netflix_sentiment, netflix_lstm, left_on='date', right_on='Date')"
   ]
  },
  {
   "cell_type": "code",
   "execution_count": 5,
   "metadata": {},
   "outputs": [],
   "source": [
    "merged_changed = merged[['date', 'prob_sqrt_mean', 'Pred', 'Actual']]\n",
    "merged_changed = merged_changed.dropna()"
   ]
  },
  {
   "cell_type": "code",
   "execution_count": 6,
   "metadata": {},
   "outputs": [
    {
     "data": {
      "text/plain": [
       "array([ 0.322,  0.066,  0.32 , -0.093,  0.047, -0.001,  0.06 ,  0.202,\n",
       "        0.043,  0.386,  0.09 , -0.31 ,  0.431, -0.069,  0.01 ,  0.149,\n",
       "        0.   , -0.218,  0.197,  0.194,  0.264,  0.134,  0.004,  0.187,\n",
       "       -0.085, -0.111,  0.126,  0.14 ,  0.27 ,  0.154, -0.014,  0.189,\n",
       "        0.264,  0.098, -0.107, -0.066,  0.212,  0.116, -0.124,  0.003,\n",
       "        0.226,  0.143,  0.25 ,  0.233,  0.616,  0.259, -0.044,  0.295,\n",
       "        0.097,  0.077,  0.065,  0.225,  0.001,  0.341,  0.137, -0.006,\n",
       "       -0.032,  0.343,  0.082,  0.085,  0.182,  0.125,  0.073,  0.344,\n",
       "       -0.13 , -0.018,  0.073,  0.163,  0.218,  0.076,  0.268,  0.035,\n",
       "        0.187, -0.227, -0.082,  0.365,  0.431,  0.158,  0.121,  0.169,\n",
       "        0.091,  0.134,  0.257,  0.244,  0.251,  0.07 , -0.028, -0.14 ,\n",
       "        0.019,  0.204,  0.127,  0.033,  0.166,  0.011,  0.173,  0.228,\n",
       "        0.156,  0.005,  0.096, -0.076,  0.162,  0.386,  0.037, -0.058,\n",
       "       -0.019,  0.061,  0.202, -0.016,  0.029,  0.167, -0.046, -0.089,\n",
       "        0.119,  0.173,  0.076,  0.124,  0.065,  0.03 ,  0.023,  0.172,\n",
       "        0.237,  0.189,  0.126,  0.139, -0.032,  0.093,  0.121,  0.037,\n",
       "        0.144,  0.017,  0.002,  0.114,  0.08 ,  0.217,  0.382,  0.068,\n",
       "        0.238,  0.126, -0.032,  0.135,  0.147,  0.589,  0.653,  0.597,\n",
       "        0.406,  0.286, -0.216,  0.008,  0.329,  0.   ,  0.22 ,  0.308,\n",
       "        0.126,  0.246, -0.015, -0.009,  0.064,  0.19 ,  0.089,  0.063,\n",
       "       -0.17 , -0.246, -0.003,  0.23 ,  0.307,  0.165,  0.238,  0.083,\n",
       "        0.207, -0.032, -0.013,  0.21 ,  0.199,  0.057, -0.238, -0.187,\n",
       "       -0.138, -0.082, -0.04 , -0.117, -0.168,  0.088,  0.168,  0.115,\n",
       "        0.052,  0.292,  0.053, -0.07 ,  0.081,  0.16 , -0.128, -0.041,\n",
       "        0.08 ,  0.024,  0.143, -0.073,  0.062,  0.115,  0.146,  0.151,\n",
       "        0.186, -0.113, -0.065,  0.087,  0.009,  0.114,  0.024,  0.117,\n",
       "        0.059,  0.181,  0.05 ,  0.073,  0.079, -0.027,  0.006,  0.069,\n",
       "        0.042,  0.076,  0.015,  0.237,  0.083])"
      ]
     },
     "execution_count": 6,
     "metadata": {},
     "output_type": "execute_result"
    }
   ],
   "source": [
    "inputs_1 = merged_changed.prob_sqrt_mean.values\n",
    "inputs_1"
   ]
  },
  {
   "cell_type": "code",
   "execution_count": 7,
   "metadata": {},
   "outputs": [
    {
     "data": {
      "text/plain": [
       "(221,)"
      ]
     },
     "execution_count": 7,
     "metadata": {},
     "output_type": "execute_result"
    }
   ],
   "source": [
    "inputs_2 = merged_changed.Pred.values\n",
    "inputs_2.shape"
   ]
  },
  {
   "cell_type": "code",
   "execution_count": 8,
   "metadata": {},
   "outputs": [
    {
     "data": {
      "text/plain": [
       "(221, 2)"
      ]
     },
     "execution_count": 8,
     "metadata": {},
     "output_type": "execute_result"
    }
   ],
   "source": [
    "inputs = np.stack((inputs_1, inputs_2), axis=1)\n",
    "inputs.shape"
   ]
  },
  {
   "cell_type": "code",
   "execution_count": 9,
   "metadata": {},
   "outputs": [],
   "source": [
    "targets = merged_changed.iloc[:, 3].values"
   ]
  },
  {
   "cell_type": "markdown",
   "metadata": {},
   "source": [
    "# Fit a model"
   ]
  },
  {
   "cell_type": "code",
   "execution_count": 10,
   "metadata": {},
   "outputs": [
    {
     "name": "stdout",
     "output_type": "stream",
     "text": [
      "                            OLS Regression Results                            \n",
      "==============================================================================\n",
      "Dep. Variable:                      y   R-squared:                       0.959\n",
      "Model:                            OLS   Adj. R-squared:                  0.959\n",
      "Method:                 Least Squares   F-statistic:                     2571.\n",
      "Date:                Mon, 15 Feb 2021   Prob (F-statistic):          2.56e-152\n",
      "Time:                        22:25:43   Log-Likelihood:                -883.42\n",
      "No. Observations:                 221   AIC:                             1773.\n",
      "Df Residuals:                     218   BIC:                             1783.\n",
      "Df Model:                           2                                         \n",
      "Covariance Type:            nonrobust                                         \n",
      "==============================================================================\n",
      "                 coef    std err          t      P>|t|      [0.025      0.975]\n",
      "------------------------------------------------------------------------------\n",
      "const        438.1981      0.892    491.026      0.000     436.439     439.957\n",
      "x1             0.6250      0.894      0.699      0.485      -1.137       2.387\n",
      "x2            64.0303      0.894     71.624      0.000      62.268      65.792\n",
      "==============================================================================\n",
      "Omnibus:                       15.300   Durbin-Watson:                   2.516\n",
      "Prob(Omnibus):                  0.000   Jarque-Bera (JB):               41.293\n",
      "Skew:                           0.152   Prob(JB):                     1.08e-09\n",
      "Kurtosis:                       5.096   Cond. No.                         1.06\n",
      "==============================================================================\n",
      "\n",
      "Warnings:\n",
      "[1] Standard Errors assume that the covariance matrix of the errors is correctly specified.\n"
     ]
    }
   ],
   "source": [
    "import statsmodels.api as sm\n",
    "from sklearn.preprocessing import StandardScaler\n",
    "\n",
    "sc = StandardScaler()\n",
    "inputs = sc.fit_transform(inputs)\n",
    "\n",
    "inputs = sm.add_constant(inputs)\n",
    "model = sm.OLS(targets, inputs)\n",
    "results = model.fit()\n",
    "print(results.summary())"
   ]
  },
  {
   "cell_type": "markdown",
   "metadata": {},
   "source": [
    "# Save Results"
   ]
  },
  {
   "cell_type": "code",
   "execution_count": 11,
   "metadata": {},
   "outputs": [],
   "source": [
    "predictions = results.predict()"
   ]
  },
  {
   "cell_type": "code",
   "execution_count": 12,
   "metadata": {},
   "outputs": [],
   "source": [
    "netflix_stock_prediction = pd.DataFrame().assign(Date=merged_changed['date'], Predictions=predictions, \n",
    "                                                Actual=merged_changed['Actual'])\n",
    "netflix_stock_prediction.to_csv(\"../Stock Price Predictions with Twitter/netflix_stock_prediction_twitter.csv\")"
   ]
  }
 ],
 "metadata": {
  "kernelspec": {
   "display_name": "Python 3",
   "language": "python",
   "name": "python3"
  },
  "language_info": {
   "codemirror_mode": {
    "name": "ipython",
    "version": 3
   },
   "file_extension": ".py",
   "mimetype": "text/x-python",
   "name": "python",
   "nbconvert_exporter": "python",
   "pygments_lexer": "ipython3",
   "version": "3.7.6"
  }
 },
 "nbformat": 4,
 "nbformat_minor": 2
}
