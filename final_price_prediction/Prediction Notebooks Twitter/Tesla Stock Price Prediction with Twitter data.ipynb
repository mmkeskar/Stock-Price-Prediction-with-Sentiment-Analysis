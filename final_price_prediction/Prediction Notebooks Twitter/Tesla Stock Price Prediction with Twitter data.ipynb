{
 "cells": [
  {
   "cell_type": "markdown",
   "metadata": {},
   "source": [
    "# Import Relevant Libraries"
   ]
  },
  {
   "cell_type": "code",
   "execution_count": 1,
   "metadata": {},
   "outputs": [],
   "source": [
    "import pandas as pd\n",
    "import numpy as np\n",
    "import matplotlib.pyplot as plt"
   ]
  },
  {
   "cell_type": "markdown",
   "metadata": {},
   "source": [
    "# Prepare inputs and targets"
   ]
  },
  {
   "cell_type": "code",
   "execution_count": 2,
   "metadata": {},
   "outputs": [
    {
     "data": {
      "text/html": [
       "<div>\n",
       "<style scoped>\n",
       "    .dataframe tbody tr th:only-of-type {\n",
       "        vertical-align: middle;\n",
       "    }\n",
       "\n",
       "    .dataframe tbody tr th {\n",
       "        vertical-align: top;\n",
       "    }\n",
       "\n",
       "    .dataframe thead th {\n",
       "        text-align: right;\n",
       "    }\n",
       "</style>\n",
       "<table border=\"1\" class=\"dataframe\">\n",
       "  <thead>\n",
       "    <tr style=\"text-align: right;\">\n",
       "      <th></th>\n",
       "      <th>date</th>\n",
       "      <th>binary_mean</th>\n",
       "      <th>binary_squared_mean</th>\n",
       "      <th>binary_sqrt_mean</th>\n",
       "      <th>prob_mean</th>\n",
       "      <th>prob_squared_mean</th>\n",
       "      <th>prob_sqrt_mean</th>\n",
       "    </tr>\n",
       "  </thead>\n",
       "  <tbody>\n",
       "    <tr>\n",
       "      <th>0</th>\n",
       "      <td>1/3/2020</td>\n",
       "      <td>1.00</td>\n",
       "      <td>1.000</td>\n",
       "      <td>0.999</td>\n",
       "      <td>0.494</td>\n",
       "      <td>0.542</td>\n",
       "      <td>0.468</td>\n",
       "    </tr>\n",
       "    <tr>\n",
       "      <th>1</th>\n",
       "      <td>1/4/2020</td>\n",
       "      <td>1.00</td>\n",
       "      <td>1.000</td>\n",
       "      <td>0.999</td>\n",
       "      <td>0.407</td>\n",
       "      <td>0.403</td>\n",
       "      <td>0.409</td>\n",
       "    </tr>\n",
       "    <tr>\n",
       "      <th>2</th>\n",
       "      <td>1/5/2020</td>\n",
       "      <td>1.00</td>\n",
       "      <td>1.000</td>\n",
       "      <td>0.999</td>\n",
       "      <td>0.303</td>\n",
       "      <td>0.310</td>\n",
       "      <td>0.299</td>\n",
       "    </tr>\n",
       "    <tr>\n",
       "      <th>3</th>\n",
       "      <td>1/6/2020</td>\n",
       "      <td>-1.00</td>\n",
       "      <td>-1.000</td>\n",
       "      <td>-0.999</td>\n",
       "      <td>-0.698</td>\n",
       "      <td>-0.711</td>\n",
       "      <td>-0.690</td>\n",
       "    </tr>\n",
       "    <tr>\n",
       "      <th>4</th>\n",
       "      <td>1/7/2020</td>\n",
       "      <td>0.41</td>\n",
       "      <td>0.358</td>\n",
       "      <td>0.450</td>\n",
       "      <td>0.362</td>\n",
       "      <td>0.384</td>\n",
       "      <td>0.348</td>\n",
       "    </tr>\n",
       "  </tbody>\n",
       "</table>\n",
       "</div>"
      ],
      "text/plain": [
       "       date  binary_mean  binary_squared_mean  binary_sqrt_mean  prob_mean  \\\n",
       "0  1/3/2020         1.00                1.000             0.999      0.494   \n",
       "1  1/4/2020         1.00                1.000             0.999      0.407   \n",
       "2  1/5/2020         1.00                1.000             0.999      0.303   \n",
       "3  1/6/2020        -1.00               -1.000            -0.999     -0.698   \n",
       "4  1/7/2020         0.41                0.358             0.450      0.362   \n",
       "\n",
       "   prob_squared_mean  prob_sqrt_mean  \n",
       "0              0.542           0.468  \n",
       "1              0.403           0.409  \n",
       "2              0.310           0.299  \n",
       "3             -0.711          -0.690  \n",
       "4              0.384           0.348  "
      ]
     },
     "execution_count": 2,
     "metadata": {},
     "output_type": "execute_result"
    }
   ],
   "source": [
    "tesla_sentiment = pd.read_csv(\"../data/Twitter_sentiment/tesla_sentiment_time_series.csv\")\n",
    "tesla_sentiment.head()"
   ]
  },
  {
   "cell_type": "code",
   "execution_count": 3,
   "metadata": {},
   "outputs": [
    {
     "data": {
      "text/html": [
       "<div>\n",
       "<style scoped>\n",
       "    .dataframe tbody tr th:only-of-type {\n",
       "        vertical-align: middle;\n",
       "    }\n",
       "\n",
       "    .dataframe tbody tr th {\n",
       "        vertical-align: top;\n",
       "    }\n",
       "\n",
       "    .dataframe thead th {\n",
       "        text-align: right;\n",
       "    }\n",
       "</style>\n",
       "<table border=\"1\" class=\"dataframe\">\n",
       "  <thead>\n",
       "    <tr style=\"text-align: right;\">\n",
       "      <th></th>\n",
       "      <th>Unnamed: 0</th>\n",
       "      <th>Date</th>\n",
       "      <th>Pred</th>\n",
       "      <th>Actual</th>\n",
       "    </tr>\n",
       "  </thead>\n",
       "  <tbody>\n",
       "    <tr>\n",
       "      <th>0</th>\n",
       "      <td>2393</td>\n",
       "      <td>1/2/2020</td>\n",
       "      <td>83.771358</td>\n",
       "      <td>86.052002</td>\n",
       "    </tr>\n",
       "    <tr>\n",
       "      <th>1</th>\n",
       "      <td>2394</td>\n",
       "      <td>1/3/2020</td>\n",
       "      <td>86.065369</td>\n",
       "      <td>88.601997</td>\n",
       "    </tr>\n",
       "    <tr>\n",
       "      <th>2</th>\n",
       "      <td>2395</td>\n",
       "      <td>1/6/2020</td>\n",
       "      <td>88.515733</td>\n",
       "      <td>90.307999</td>\n",
       "    </tr>\n",
       "    <tr>\n",
       "      <th>3</th>\n",
       "      <td>2396</td>\n",
       "      <td>1/7/2020</td>\n",
       "      <td>90.103062</td>\n",
       "      <td>93.811996</td>\n",
       "    </tr>\n",
       "    <tr>\n",
       "      <th>4</th>\n",
       "      <td>2397</td>\n",
       "      <td>1/8/2020</td>\n",
       "      <td>93.680037</td>\n",
       "      <td>98.428001</td>\n",
       "    </tr>\n",
       "  </tbody>\n",
       "</table>\n",
       "</div>"
      ],
      "text/plain": [
       "   Unnamed: 0      Date       Pred     Actual\n",
       "0        2393  1/2/2020  83.771358  86.052002\n",
       "1        2394  1/3/2020  86.065369  88.601997\n",
       "2        2395  1/6/2020  88.515733  90.307999\n",
       "3        2396  1/7/2020  90.103062  93.811996\n",
       "4        2397  1/8/2020  93.680037  98.428001"
      ]
     },
     "execution_count": 3,
     "metadata": {},
     "output_type": "execute_result"
    }
   ],
   "source": [
    "tesla_lstm = pd.read_csv(\"../data/LSTM/TSLA_LSTM_predictions.csv\")\n",
    "tesla_lstm.head()"
   ]
  },
  {
   "cell_type": "code",
   "execution_count": 4,
   "metadata": {},
   "outputs": [],
   "source": [
    "merged = pd.merge(tesla_sentiment, tesla_lstm, left_on='date', right_on='Date')"
   ]
  },
  {
   "cell_type": "code",
   "execution_count": 5,
   "metadata": {},
   "outputs": [],
   "source": [
    "merged_changed = merged[['date', 'prob_sqrt_mean', 'Pred', 'Actual']]\n",
    "merged_changed = merged_changed.dropna()"
   ]
  },
  {
   "cell_type": "code",
   "execution_count": 6,
   "metadata": {},
   "outputs": [
    {
     "data": {
      "text/plain": [
       "array([ 0.468, -0.69 ,  0.348, -0.078, -0.27 ,  0.333, -0.088, -0.39 ,\n",
       "       -0.022, -0.203,  0.022,  0.242, -0.04 ,  0.592,  0.047,  0.08 ,\n",
       "       -0.171,  0.039,  0.181,  0.064, -0.268,  0.162, -0.044,  0.316,\n",
       "       -0.561,  0.369,  0.509,  0.242,  0.379,  0.102,  0.417,  0.136,\n",
       "       -0.342, -0.089, -0.508, -0.063,  0.154,  0.605, -0.202, -0.362,\n",
       "        0.785,  0.209, -0.257,  0.373, -0.331,  0.089,  0.189, -0.781,\n",
       "        0.201,  0.322,  0.443,  0.504,  0.299,  0.082,  0.077, -0.306,\n",
       "       -0.129,  0.285, -0.001,  0.037,  0.538, -0.022, -0.364,  0.067,\n",
       "        0.309, -0.109,  0.327, -0.228, -0.267,  0.144, -0.089,  0.039,\n",
       "        0.423,  0.005,  0.453, -0.154,  0.004, -0.168,  0.18 ,  0.354,\n",
       "        0.004,  0.179, -0.073, -0.371,  0.36 ,  0.275,  0.396,  0.333,\n",
       "        0.125,  0.051,  0.363,  0.636, -0.078, -0.21 ,  0.354,  0.108,\n",
       "       -0.069,  0.31 ,  0.17 , -0.189, -0.112, -0.117,  0.153, -0.066,\n",
       "        0.12 , -0.034, -0.155,  0.152,  0.106,  0.254,  0.06 , -0.159,\n",
       "        0.513,  0.07 , -0.17 ,  0.293,  0.04 ,  0.164,  0.116, -0.059,\n",
       "       -0.095,  0.05 ,  0.23 ,  0.411, -0.322,  0.516,  0.222,  0.072,\n",
       "        0.361,  0.134,  0.318,  0.107,  0.069,  0.012, -0.035,  0.395,\n",
       "       -0.171, -0.095, -0.076, -0.209,  0.053,  0.261,  0.069,  0.356,\n",
       "       -0.171,  0.121,  0.399,  0.067,  0.115, -0.41 , -0.12 ,  0.076,\n",
       "        0.118, -0.205,  0.284,  0.204, -0.098,  0.163,  0.04 , -0.027,\n",
       "       -0.009,  0.043,  0.133,  0.33 ,  0.314,  0.246, -0.012,  0.157,\n",
       "        0.321,  0.102,  0.011, -0.177,  0.03 ,  0.282, -0.258,  0.171,\n",
       "        0.104,  0.072,  0.129,  0.091,  0.079,  0.254,  0.326,  0.167,\n",
       "        0.032,  0.006, -0.117,  0.186,  0.208,  0.422,  0.202,  0.436,\n",
       "       -0.033,  0.021,  0.18 ,  0.484,  0.229,  0.326,  0.462,  0.297,\n",
       "        0.274,  0.021,  0.438, -0.147,  0.077, -0.318, -0.409,  0.378])"
      ]
     },
     "execution_count": 6,
     "metadata": {},
     "output_type": "execute_result"
    }
   ],
   "source": [
    "inputs_1 = merged_changed.prob_sqrt_mean.values\n",
    "inputs_1"
   ]
  },
  {
   "cell_type": "code",
   "execution_count": 7,
   "metadata": {},
   "outputs": [
    {
     "data": {
      "text/plain": [
       "(208,)"
      ]
     },
     "execution_count": 7,
     "metadata": {},
     "output_type": "execute_result"
    }
   ],
   "source": [
    "inputs_2 = merged_changed.Pred.values\n",
    "inputs_2.shape"
   ]
  },
  {
   "cell_type": "code",
   "execution_count": 8,
   "metadata": {},
   "outputs": [
    {
     "data": {
      "text/plain": [
       "(208, 2)"
      ]
     },
     "execution_count": 8,
     "metadata": {},
     "output_type": "execute_result"
    }
   ],
   "source": [
    "inputs = np.stack((inputs_1, inputs_2), axis=1)\n",
    "inputs.shape"
   ]
  },
  {
   "cell_type": "code",
   "execution_count": 9,
   "metadata": {},
   "outputs": [],
   "source": [
    "targets = merged_changed.iloc[:, 3].values"
   ]
  },
  {
   "cell_type": "markdown",
   "metadata": {},
   "source": [
    "# Fit a model"
   ]
  },
  {
   "cell_type": "code",
   "execution_count": 10,
   "metadata": {},
   "outputs": [
    {
     "name": "stdout",
     "output_type": "stream",
     "text": [
      "                            OLS Regression Results                            \n",
      "==============================================================================\n",
      "Dep. Variable:                      y   R-squared:                       0.987\n",
      "Model:                            OLS   Adj. R-squared:                  0.987\n",
      "Method:                 Least Squares   F-statistic:                     7612.\n",
      "Date:                Mon, 15 Feb 2021   Prob (F-statistic):          4.45e-193\n",
      "Time:                        22:27:04   Log-Likelihood:                -852.17\n",
      "No. Observations:                 208   AIC:                             1710.\n",
      "Df Residuals:                     205   BIC:                             1720.\n",
      "Df Model:                           2                                         \n",
      "Covariance Type:            nonrobust                                         \n",
      "==============================================================================\n",
      "                 coef    std err          t      P>|t|      [0.025      0.975]\n",
      "------------------------------------------------------------------------------\n",
      "const        252.6079      1.017    248.463      0.000     250.603     254.612\n",
      "x1             0.6776      1.021      0.664      0.507      -1.334       2.690\n",
      "x2           125.3856      1.021    122.866      0.000     123.374     127.398\n",
      "==============================================================================\n",
      "Omnibus:                       56.017   Durbin-Watson:                   2.251\n",
      "Prob(Omnibus):                  0.000   Jarque-Bera (JB):              531.365\n",
      "Skew:                          -0.678   Prob(JB):                    4.13e-116\n",
      "Kurtosis:                      10.712   Cond. No.                         1.09\n",
      "==============================================================================\n",
      "\n",
      "Warnings:\n",
      "[1] Standard Errors assume that the covariance matrix of the errors is correctly specified.\n"
     ]
    }
   ],
   "source": [
    "import statsmodels.api as sm\n",
    "from sklearn.preprocessing import StandardScaler\n",
    "\n",
    "sc = StandardScaler()\n",
    "inputs = sc.fit_transform(inputs)\n",
    "\n",
    "inputs = sm.add_constant(inputs)\n",
    "model = sm.OLS(targets, inputs)\n",
    "results = model.fit()\n",
    "print(results.summary())"
   ]
  },
  {
   "cell_type": "markdown",
   "metadata": {},
   "source": [
    "# Save Results"
   ]
  },
  {
   "cell_type": "code",
   "execution_count": 11,
   "metadata": {},
   "outputs": [],
   "source": [
    "predictions = results.predict()"
   ]
  },
  {
   "cell_type": "code",
   "execution_count": 12,
   "metadata": {},
   "outputs": [],
   "source": [
    "tesla_stock_prediction = pd.DataFrame().assign(Date=merged_changed['date'], Predictions=predictions, \n",
    "                                                Actual=merged_changed['Actual'])\n",
    "tesla_stock_prediction.to_csv(\"../Stock Price Predictions with Twitter/tesla_stock_prediction_twitter.csv\")"
   ]
  }
 ],
 "metadata": {
  "kernelspec": {
   "display_name": "Python 3",
   "language": "python",
   "name": "python3"
  },
  "language_info": {
   "codemirror_mode": {
    "name": "ipython",
    "version": 3
   },
   "file_extension": ".py",
   "mimetype": "text/x-python",
   "name": "python",
   "nbconvert_exporter": "python",
   "pygments_lexer": "ipython3",
   "version": "3.7.6"
  }
 },
 "nbformat": 4,
 "nbformat_minor": 2
}
