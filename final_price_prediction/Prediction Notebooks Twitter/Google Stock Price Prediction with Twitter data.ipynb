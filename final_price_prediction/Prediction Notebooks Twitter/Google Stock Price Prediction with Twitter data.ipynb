{
 "cells": [
  {
   "cell_type": "markdown",
   "metadata": {},
   "source": [
    "# Import Relevant Libraries"
   ]
  },
  {
   "cell_type": "code",
   "execution_count": 1,
   "metadata": {},
   "outputs": [],
   "source": [
    "import pandas as pd\n",
    "import numpy as np\n",
    "import matplotlib.pyplot as plt"
   ]
  },
  {
   "cell_type": "markdown",
   "metadata": {},
   "source": [
    "# Prepare inputs and targets"
   ]
  },
  {
   "cell_type": "code",
   "execution_count": 2,
   "metadata": {},
   "outputs": [
    {
     "data": {
      "text/html": [
       "<div>\n",
       "<style scoped>\n",
       "    .dataframe tbody tr th:only-of-type {\n",
       "        vertical-align: middle;\n",
       "    }\n",
       "\n",
       "    .dataframe tbody tr th {\n",
       "        vertical-align: top;\n",
       "    }\n",
       "\n",
       "    .dataframe thead th {\n",
       "        text-align: right;\n",
       "    }\n",
       "</style>\n",
       "<table border=\"1\" class=\"dataframe\">\n",
       "  <thead>\n",
       "    <tr style=\"text-align: right;\">\n",
       "      <th></th>\n",
       "      <th>date</th>\n",
       "      <th>binary_mean</th>\n",
       "      <th>binary_squared_mean</th>\n",
       "      <th>binary_sqrt_mean</th>\n",
       "      <th>prob_mean</th>\n",
       "      <th>prob_squared_mean</th>\n",
       "      <th>prob_sqrt_mean</th>\n",
       "    </tr>\n",
       "  </thead>\n",
       "  <tbody>\n",
       "    <tr>\n",
       "      <th>0</th>\n",
       "      <td>1/3/2020</td>\n",
       "      <td>1.000</td>\n",
       "      <td>1.000</td>\n",
       "      <td>0.999</td>\n",
       "      <td>0.173</td>\n",
       "      <td>0.172</td>\n",
       "      <td>0.173</td>\n",
       "    </tr>\n",
       "    <tr>\n",
       "      <th>1</th>\n",
       "      <td>1/4/2020</td>\n",
       "      <td>-1.000</td>\n",
       "      <td>-1.000</td>\n",
       "      <td>-0.999</td>\n",
       "      <td>-0.618</td>\n",
       "      <td>-0.624</td>\n",
       "      <td>-0.614</td>\n",
       "    </tr>\n",
       "    <tr>\n",
       "      <th>2</th>\n",
       "      <td>1/5/2020</td>\n",
       "      <td>1.000</td>\n",
       "      <td>1.000</td>\n",
       "      <td>0.999</td>\n",
       "      <td>0.191</td>\n",
       "      <td>0.172</td>\n",
       "      <td>0.201</td>\n",
       "    </tr>\n",
       "    <tr>\n",
       "      <th>3</th>\n",
       "      <td>1/6/2020</td>\n",
       "      <td>1.000</td>\n",
       "      <td>1.000</td>\n",
       "      <td>0.999</td>\n",
       "      <td>0.453</td>\n",
       "      <td>0.478</td>\n",
       "      <td>0.439</td>\n",
       "    </tr>\n",
       "    <tr>\n",
       "      <th>4</th>\n",
       "      <td>1/7/2020</td>\n",
       "      <td>-0.561</td>\n",
       "      <td>-0.618</td>\n",
       "      <td>-0.531</td>\n",
       "      <td>-0.433</td>\n",
       "      <td>-0.466</td>\n",
       "      <td>-0.416</td>\n",
       "    </tr>\n",
       "  </tbody>\n",
       "</table>\n",
       "</div>"
      ],
      "text/plain": [
       "       date  binary_mean  binary_squared_mean  binary_sqrt_mean  prob_mean  \\\n",
       "0  1/3/2020        1.000                1.000             0.999      0.173   \n",
       "1  1/4/2020       -1.000               -1.000            -0.999     -0.618   \n",
       "2  1/5/2020        1.000                1.000             0.999      0.191   \n",
       "3  1/6/2020        1.000                1.000             0.999      0.453   \n",
       "4  1/7/2020       -0.561               -0.618            -0.531     -0.433   \n",
       "\n",
       "   prob_squared_mean  prob_sqrt_mean  \n",
       "0              0.172           0.173  \n",
       "1             -0.624          -0.614  \n",
       "2              0.172           0.201  \n",
       "3              0.478           0.439  \n",
       "4             -0.466          -0.416  "
      ]
     },
     "execution_count": 2,
     "metadata": {},
     "output_type": "execute_result"
    }
   ],
   "source": [
    "google_sentiment = pd.read_csv(\"../data/Twitter_sentiment/google_sentiment_time_series.csv\")\n",
    "google_sentiment.head()"
   ]
  },
  {
   "cell_type": "code",
   "execution_count": 3,
   "metadata": {},
   "outputs": [
    {
     "data": {
      "text/html": [
       "<div>\n",
       "<style scoped>\n",
       "    .dataframe tbody tr th:only-of-type {\n",
       "        vertical-align: middle;\n",
       "    }\n",
       "\n",
       "    .dataframe tbody tr th {\n",
       "        vertical-align: top;\n",
       "    }\n",
       "\n",
       "    .dataframe thead th {\n",
       "        text-align: right;\n",
       "    }\n",
       "</style>\n",
       "<table border=\"1\" class=\"dataframe\">\n",
       "  <thead>\n",
       "    <tr style=\"text-align: right;\">\n",
       "      <th></th>\n",
       "      <th>Unnamed: 0</th>\n",
       "      <th>Date</th>\n",
       "      <th>Pred</th>\n",
       "      <th>Actual</th>\n",
       "    </tr>\n",
       "  </thead>\n",
       "  <tbody>\n",
       "    <tr>\n",
       "      <th>0</th>\n",
       "      <td>3868</td>\n",
       "      <td>1/2/2020</td>\n",
       "      <td>1328.691596</td>\n",
       "      <td>1367.369995</td>\n",
       "    </tr>\n",
       "    <tr>\n",
       "      <th>1</th>\n",
       "      <td>3869</td>\n",
       "      <td>1/3/2020</td>\n",
       "      <td>1361.228533</td>\n",
       "      <td>1360.660034</td>\n",
       "    </tr>\n",
       "    <tr>\n",
       "      <th>2</th>\n",
       "      <td>3870</td>\n",
       "      <td>1/6/2020</td>\n",
       "      <td>1349.106885</td>\n",
       "      <td>1394.209961</td>\n",
       "    </tr>\n",
       "    <tr>\n",
       "      <th>3</th>\n",
       "      <td>3871</td>\n",
       "      <td>1/7/2020</td>\n",
       "      <td>1385.930880</td>\n",
       "      <td>1393.339966</td>\n",
       "    </tr>\n",
       "    <tr>\n",
       "      <th>4</th>\n",
       "      <td>3872</td>\n",
       "      <td>1/8/2020</td>\n",
       "      <td>1379.950078</td>\n",
       "      <td>1404.319946</td>\n",
       "    </tr>\n",
       "  </tbody>\n",
       "</table>\n",
       "</div>"
      ],
      "text/plain": [
       "   Unnamed: 0      Date         Pred       Actual\n",
       "0        3868  1/2/2020  1328.691596  1367.369995\n",
       "1        3869  1/3/2020  1361.228533  1360.660034\n",
       "2        3870  1/6/2020  1349.106885  1394.209961\n",
       "3        3871  1/7/2020  1385.930880  1393.339966\n",
       "4        3872  1/8/2020  1379.950078  1404.319946"
      ]
     },
     "execution_count": 3,
     "metadata": {},
     "output_type": "execute_result"
    }
   ],
   "source": [
    "google_lstm = pd.read_csv(\"../data/LSTM/GOOGL_LSTM_predictions.csv\")\n",
    "google_lstm.head()"
   ]
  },
  {
   "cell_type": "code",
   "execution_count": 4,
   "metadata": {},
   "outputs": [],
   "source": [
    "merged = pd.merge(google_sentiment, google_lstm, left_on='date', right_on='Date')"
   ]
  },
  {
   "cell_type": "code",
   "execution_count": 5,
   "metadata": {},
   "outputs": [],
   "source": [
    "merged_changed = merged[['date', 'prob_sqrt_mean', 'Pred', 'Actual']]\n",
    "merged_changed = merged_changed.dropna()"
   ]
  },
  {
   "cell_type": "code",
   "execution_count": 6,
   "metadata": {},
   "outputs": [
    {
     "data": {
      "text/plain": [
       "array([ 0.173,  0.439, -0.416,  0.527,  0.382,  0.048, -0.193, -0.393,\n",
       "       -0.043, -0.13 ,  0.245, -0.279, -0.017,  0.163, -0.256, -0.294,\n",
       "        0.306, -0.327,  0.191, -0.084,  0.147,  0.031, -0.062,  0.144,\n",
       "       -0.025,  0.099, -0.07 ,  0.066,  0.069,  0.518,  0.132, -0.001,\n",
       "       -0.033,  0.007,  0.451,  0.131,  0.491,  0.161, -0.102, -0.275,\n",
       "        0.097,  0.623,  0.11 ,  0.037,  0.18 ,  0.376, -0.165,  0.492,\n",
       "        0.27 ,  0.472,  0.009,  0.327,  0.217, -0.204, -0.043,  0.034,\n",
       "       -0.055, -0.046,  0.147, -0.226,  0.051,  0.141,  0.694,  0.498,\n",
       "       -0.506, -0.099,  0.335,  0.041,  0.199,  0.288, -0.122, -0.544,\n",
       "        0.019,  0.028, -0.03 ,  0.276, -0.052, -0.103,  0.123,  0.329,\n",
       "        0.445,  0.309, -0.063,  0.111,  0.14 ,  0.041,  0.028,  0.009,\n",
       "        0.165,  0.1  ,  0.123, -0.037, -0.011, -0.31 , -0.   ,  0.093,\n",
       "       -0.332, -0.091, -0.181, -0.044,  0.059,  0.052,  0.145,  0.092,\n",
       "        0.086, -0.059,  0.012, -0.196, -0.263,  0.177,  0.078,  0.021,\n",
       "        0.26 ,  0.312,  0.289, -0.6  ,  0.227,  0.39 ,  0.087,  0.462,\n",
       "        0.03 ,  0.193,  0.203, -0.174,  0.363,  0.32 ,  0.231,  0.01 ,\n",
       "       -0.123,  0.034, -0.186, -0.163,  0.378,  0.072, -0.005,  0.065,\n",
       "       -0.113, -0.127,  0.097,  0.125, -0.119,  0.19 , -0.018, -0.396,\n",
       "       -0.279, -0.172,  0.055,  0.429,  0.022, -0.288, -0.011, -0.251,\n",
       "       -0.209,  0.301, -0.148,  0.177, -0.067,  0.131,  0.023,  0.254,\n",
       "        0.208,  0.089, -0.029,  0.246,  0.361, -0.055, -0.172,  0.193,\n",
       "        0.23 ,  0.329,  0.104,  0.212,  0.043,  0.131,  0.301,  0.288,\n",
       "        0.244,  0.077, -0.021,  0.135,  0.088,  0.284, -0.274, -0.302,\n",
       "        0.209, -0.1  ,  0.193,  0.051, -0.062, -0.028,  0.034,  0.139,\n",
       "       -0.05 , -0.087, -0.06 ,  0.098,  0.16 ,  0.204,  0.192,  0.162,\n",
       "       -0.179, -0.067, -0.144,  0.061,  0.074, -0.44 ,  0.121, -0.092,\n",
       "        0.081,  0.07 ,  0.068,  0.002,  0.457])"
      ]
     },
     "execution_count": 6,
     "metadata": {},
     "output_type": "execute_result"
    }
   ],
   "source": [
    "inputs_1 = merged_changed.prob_sqrt_mean.values\n",
    "inputs_1"
   ]
  },
  {
   "cell_type": "code",
   "execution_count": 7,
   "metadata": {},
   "outputs": [
    {
     "data": {
      "text/plain": [
       "(213,)"
      ]
     },
     "execution_count": 7,
     "metadata": {},
     "output_type": "execute_result"
    }
   ],
   "source": [
    "inputs_2 = merged_changed.Pred.values\n",
    "inputs_2.shape"
   ]
  },
  {
   "cell_type": "code",
   "execution_count": 8,
   "metadata": {},
   "outputs": [
    {
     "data": {
      "text/plain": [
       "(213, 2)"
      ]
     },
     "execution_count": 8,
     "metadata": {},
     "output_type": "execute_result"
    }
   ],
   "source": [
    "inputs = np.stack((inputs_1, inputs_2), axis=1)\n",
    "inputs.shape"
   ]
  },
  {
   "cell_type": "code",
   "execution_count": 9,
   "metadata": {},
   "outputs": [],
   "source": [
    "targets = merged_changed.iloc[:, 3].values"
   ]
  },
  {
   "cell_type": "markdown",
   "metadata": {},
   "source": [
    "# Fit a model"
   ]
  },
  {
   "cell_type": "code",
   "execution_count": 10,
   "metadata": {},
   "outputs": [
    {
     "name": "stdout",
     "output_type": "stream",
     "text": [
      "                            OLS Regression Results                            \n",
      "==============================================================================\n",
      "Dep. Variable:                      y   R-squared:                       0.942\n",
      "Model:                            OLS   Adj. R-squared:                  0.942\n",
      "Method:                 Least Squares   F-statistic:                     1707.\n",
      "Date:                Mon, 15 Feb 2021   Prob (F-statistic):          1.29e-130\n",
      "Time:                        22:23:55   Log-Likelihood:                -1055.5\n",
      "No. Observations:                 213   AIC:                             2117.\n",
      "Df Residuals:                     210   BIC:                             2127.\n",
      "Df Model:                           2                                         \n",
      "Covariance Type:            nonrobust                                         \n",
      "==============================================================================\n",
      "                 coef    std err          t      P>|t|      [0.025      0.975]\n",
      "------------------------------------------------------------------------------\n",
      "const       1446.5477      2.370    610.296      0.000    1441.875    1451.220\n",
      "x1            -2.0110      2.379     -0.845      0.399      -6.701       2.679\n",
      "x2           138.3156      2.379     58.143      0.000     133.626     143.005\n",
      "==============================================================================\n",
      "Omnibus:                       30.881   Durbin-Watson:                   2.487\n",
      "Prob(Omnibus):                  0.000   Jarque-Bera (JB):               82.803\n",
      "Skew:                          -0.604   Prob(JB):                     1.05e-18\n",
      "Kurtosis:                       5.805   Cond. No.                         1.09\n",
      "==============================================================================\n",
      "\n",
      "Warnings:\n",
      "[1] Standard Errors assume that the covariance matrix of the errors is correctly specified.\n"
     ]
    }
   ],
   "source": [
    "import statsmodels.api as sm\n",
    "from sklearn.preprocessing import StandardScaler\n",
    "\n",
    "sc = StandardScaler()\n",
    "inputs = sc.fit_transform(inputs)\n",
    "\n",
    "inputs = sm.add_constant(inputs)\n",
    "model = sm.OLS(targets, inputs)\n",
    "results = model.fit()\n",
    "print(results.summary())"
   ]
  },
  {
   "cell_type": "markdown",
   "metadata": {},
   "source": [
    "# Save Results"
   ]
  },
  {
   "cell_type": "code",
   "execution_count": 11,
   "metadata": {},
   "outputs": [],
   "source": [
    "predictions = results.predict()"
   ]
  },
  {
   "cell_type": "code",
   "execution_count": 12,
   "metadata": {},
   "outputs": [],
   "source": [
    "google_stock_prediction = pd.DataFrame().assign(Date=merged_changed['date'], Predictions=predictions, \n",
    "                                                Actual=merged_changed['Actual'])\n",
    "google_stock_prediction.to_csv(\"../Stock Price Predictions with Twitter/google_stock_prediction_twitter.csv\")"
   ]
  }
 ],
 "metadata": {
  "kernelspec": {
   "display_name": "Python 3",
   "language": "python",
   "name": "python3"
  },
  "language_info": {
   "codemirror_mode": {
    "name": "ipython",
    "version": 3
   },
   "file_extension": ".py",
   "mimetype": "text/x-python",
   "name": "python",
   "nbconvert_exporter": "python",
   "pygments_lexer": "ipython3",
   "version": "3.7.6"
  }
 },
 "nbformat": 4,
 "nbformat_minor": 2
}
