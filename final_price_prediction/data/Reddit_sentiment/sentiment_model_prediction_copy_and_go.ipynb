{
 "cells": [
  {
   "cell_type": "markdown",
   "metadata": {},
   "source": [
    "# Sentiment Model Prediction Copy and Go"
   ]
  },
  {
   "cell_type": "code",
   "execution_count": 1,
   "metadata": {},
   "outputs": [],
   "source": [
    "import tensorflow as tf"
   ]
  },
  {
   "cell_type": "code",
   "execution_count": 2,
   "metadata": {},
   "outputs": [
    {
     "data": {
      "text/plain": [
       "'2.4.1'"
      ]
     },
     "execution_count": 2,
     "metadata": {},
     "output_type": "execute_result"
    }
   ],
   "source": [
    "tf.__version__"
   ]
  },
  {
   "cell_type": "code",
   "execution_count": 3,
   "metadata": {},
   "outputs": [],
   "source": [
    "model = tf.keras.models.load_model(\"Final_sentiment_predictor\")"
   ]
  },
  {
   "cell_type": "code",
   "execution_count": 5,
   "metadata": {},
   "outputs": [
    {
     "name": "stdout",
     "output_type": "stream",
     "text": [
      "(40, 2)\n",
      "(61, 2)\n",
      "(40, 2)\n",
      "(60, 2)\n",
      "(60, 2)\n",
      "(46, 2)\n",
      "(51, 2)\n",
      "(50, 2)\n",
      "(49, 2)\n",
      "(56, 2)\n",
      "(43, 2)\n",
      "(44, 2)\n",
      "(71, 2)\n",
      "(52, 2)\n",
      "(66, 2)\n",
      "(54, 2)\n",
      "(53, 2)\n",
      "(71, 2)\n",
      "(49, 2)\n",
      "(46, 2)\n",
      "(76, 2)\n",
      "(48, 2)\n",
      "(44, 2)\n",
      "(60, 2)\n",
      "(42, 2)\n",
      "(38, 2)\n",
      "(43, 2)\n",
      "(49, 2)"
     ]
    },
    {
     "name": "stderr",
     "output_type": "stream",
     "text": [
      "C:\\Users\\maitr\\Anaconda3\\lib\\site-packages\\ipykernel_launcher.py:25: RuntimeWarning: invalid value encountered in double_scalars\n"
     ]
    },
    {
     "name": "stdout",
     "output_type": "stream",
     "text": [
      "\n",
      "(67, 2)\n",
      "(70, 2)\n",
      "(62, 2)\n",
      "(63, 2)\n",
      "(51, 2)\n",
      "(36, 2)\n",
      "(44, 2)\n",
      "(45, 2)\n",
      "(39, 2)\n",
      "(55, 2)\n",
      "(39, 2)\n",
      "(40, 2)\n",
      "(44, 2)\n",
      "(69, 2)\n",
      "(54, 2)\n",
      "(38, 2)\n",
      "(53, 2)\n",
      "(49, 2)\n",
      "(33, 2)\n",
      "(47, 2)\n",
      "(63, 2)\n",
      "(62, 2)\n",
      "(50, 2)\n",
      "(48, 2)\n",
      "(49, 2)\n",
      "(64, 2)\n",
      "(50, 2)\n",
      "(64, 2)\n",
      "(54, 2)\n",
      "(63, 2)\n",
      "(63, 2)\n",
      "(45, 2)\n",
      "(57, 2)\n",
      "(60, 2)\n",
      "(91, 2)\n",
      "(33, 2)\n",
      "(74, 2)\n",
      "(49, 2)\n",
      "(39, 2)\n",
      "(42, 2)\n",
      "(62, 2)\n",
      "(52, 2)\n",
      "(59, 2)\n",
      "(54, 2)\n",
      "(47, 2)\n",
      "(48, 2)\n",
      "(51, 2)\n",
      "(63, 2)\n",
      "(64, 2)\n",
      "(61, 2)\n",
      "(77, 2)\n",
      "(68, 2)\n",
      "(64, 2)\n",
      "(43, 2)\n",
      "(48, 2)\n",
      "(64, 2)\n",
      "(76, 2)\n",
      "(58, 2)\n",
      "(55, 2)\n",
      "(46, 2)\n",
      "(71, 2)\n",
      "(85, 2)\n",
      "(51, 2)\n",
      "(45, 2)\n",
      "(52, 2)\n",
      "(58, 2)\n",
      "(56, 2)\n",
      "(43, 2)\n",
      "(55, 2)\n",
      "(48, 2)\n",
      "(74, 2)\n",
      "(81, 2)\n",
      "(77, 2)\n",
      "(59, 2)\n",
      "(80, 2)\n",
      "(58, 2)\n",
      "(47, 2)\n",
      "(66, 2)\n",
      "(59, 2)\n",
      "(70, 2)\n",
      "(66, 2)\n",
      "(52, 2)\n",
      "(65, 2)\n",
      "(57, 2)\n",
      "(70, 2)\n",
      "(67, 2)\n",
      "(80, 2)\n",
      "(67, 2)\n",
      "(76, 2)\n",
      "(72, 2)\n",
      "(57, 2)\n",
      "(98, 2)\n",
      "(118, 2)\n",
      "(60, 2)\n",
      "(55, 2)\n",
      "(76, 2)\n",
      "(70, 2)\n",
      "(55, 2)\n",
      "(65, 2)\n",
      "(83, 2)\n",
      "(67, 2)\n",
      "(63, 2)\n",
      "(97, 2)\n",
      "(53, 2)\n",
      "(84, 2)\n",
      "(77, 2)\n",
      "(52, 2)\n",
      "(64, 2)\n",
      "(66, 2)\n",
      "(61, 2)\n",
      "(67, 2)\n",
      "(81, 2)\n",
      "(75, 2)\n",
      "(75, 2)\n",
      "(96, 2)\n",
      "(63, 2)\n",
      "(71, 2)\n",
      "(61, 2)\n",
      "(73, 2)\n",
      "(73, 2)\n",
      "(75, 2)\n",
      "(71, 2)\n",
      "(64, 2)\n",
      "(53, 2)\n",
      "(74, 2)\n",
      "(81, 2)\n",
      "(97, 2)\n",
      "(90, 2)\n",
      "(141, 2)\n",
      "(72, 2)\n",
      "(69, 2)\n",
      "(79, 2)\n",
      "(70, 2)\n",
      "(58, 2)\n",
      "(74, 2)\n",
      "(66, 2)\n",
      "(59, 2)\n",
      "(56, 2)\n",
      "(53, 2)\n",
      "(87, 2)\n",
      "(83, 2)\n",
      "(82, 2)\n",
      "(71, 2)\n",
      "(64, 2)\n",
      "(64, 2)\n",
      "(62, 2)\n",
      "(74, 2)\n",
      "(92, 2)\n",
      "(77, 2)\n",
      "(80, 2)\n",
      "(88, 2)\n",
      "(82, 2)\n",
      "(89, 2)\n",
      "(85, 2)\n",
      "(84, 2)\n",
      "(82, 2)\n",
      "(57, 2)\n",
      "(78, 2)\n",
      "(71, 2)\n",
      "(70, 2)\n",
      "(69, 2)\n",
      "(68, 2)\n",
      "(65, 2)\n",
      "(68, 2)\n",
      "(53, 2)\n",
      "(59, 2)\n",
      "(80, 2)\n",
      "(65, 2)\n",
      "(56, 2)\n",
      "(56, 2)\n",
      "(76, 2)\n",
      "(57, 2)\n",
      "(69, 2)\n",
      "(48, 2)\n",
      "(73, 2)\n",
      "(62, 2)\n",
      "(72, 2)\n",
      "(56, 2)\n",
      "(62, 2)\n",
      "(69, 2)\n",
      "(46, 2)\n",
      "(63, 2)\n",
      "(70, 2)\n",
      "(74, 2)\n",
      "(85, 2)\n",
      "(55, 2)\n",
      "(56, 2)\n",
      "(73, 2)\n",
      "(66, 2)\n",
      "(57, 2)\n",
      "(74, 2)\n",
      "(74, 2)\n",
      "(40, 2)\n",
      "(62, 2)\n",
      "(75, 2)\n",
      "(67, 2)\n",
      "(74, 2)\n",
      "(61, 2)\n",
      "(55, 2)\n",
      "(60, 2)\n",
      "(57, 2)\n",
      "(69, 2)\n",
      "(79, 2)\n",
      "(125, 2)\n",
      "(74, 2)\n",
      "(67, 2)\n",
      "(51, 2)\n",
      "(88, 2)\n",
      "(90, 2)\n",
      "(72, 2)\n",
      "(80, 2)\n",
      "(80, 2)\n",
      "(67, 2)\n",
      "(68, 2)\n",
      "(65, 2)\n",
      "(62, 2)\n",
      "(87, 2)\n",
      "(95, 2)\n",
      "(68, 2)\n",
      "(46, 2)\n",
      "(41, 2)\n",
      "(31, 2)\n",
      "(52, 2)\n",
      "(39, 2)\n",
      "(74, 2)\n",
      "(55, 2)\n",
      "(53, 2)\n",
      "(60, 2)\n",
      "(51, 2)\n",
      "(82, 2)\n",
      "(71, 2)\n",
      "(78, 2)\n",
      "(64, 2)\n",
      "(67, 2)\n",
      "(59, 2)\n",
      "(57, 2)\n",
      "(74, 2)\n",
      "(94, 2)\n",
      "(68, 2)\n",
      "(62, 2)\n",
      "(63, 2)\n",
      "(36, 2)\n",
      "(56, 2)\n",
      "(55, 2)\n"
     ]
    },
    {
     "ename": "KeyboardInterrupt",
     "evalue": "",
     "output_type": "error",
     "traceback": [
      "\u001b[1;31m---------------------------------------------------------------------------\u001b[0m",
      "\u001b[1;31mKeyboardInterrupt\u001b[0m                         Traceback (most recent call last)",
      "\u001b[1;32m<ipython-input-5-78c38fdcebca>\u001b[0m in \u001b[0;36m<module>\u001b[1;34m\u001b[0m\n\u001b[0;32m     28\u001b[0m             \u001b[1;31m# Preparing\u001b[0m\u001b[1;33m\u001b[0m\u001b[1;33m\u001b[0m\u001b[1;33m\u001b[0m\u001b[0m\n\u001b[0;32m     29\u001b[0m             \u001b[0mdate_str\u001b[0m \u001b[1;33m=\u001b[0m \u001b[1;34m\"{}/{}/2020\"\u001b[0m\u001b[1;33m.\u001b[0m\u001b[0mformat\u001b[0m\u001b[1;33m(\u001b[0m\u001b[0mmonth\u001b[0m\u001b[1;33m,\u001b[0m \u001b[0mday\u001b[0m\u001b[1;33m)\u001b[0m\u001b[1;33m\u001b[0m\u001b[1;33m\u001b[0m\u001b[0m\n\u001b[1;32m---> 30\u001b[1;33m             \u001b[0my_preds\u001b[0m \u001b[1;33m=\u001b[0m \u001b[0mmodel\u001b[0m\u001b[1;33m.\u001b[0m\u001b[0mpredict_on_batch\u001b[0m\u001b[1;33m(\u001b[0m\u001b[0mword_vector\u001b[0m\u001b[1;33m[\u001b[0m\u001b[1;34m'inputs'\u001b[0m\u001b[1;33m]\u001b[0m\u001b[1;33m)\u001b[0m  \u001b[1;31m# Make predictions\u001b[0m\u001b[1;33m\u001b[0m\u001b[1;33m\u001b[0m\u001b[0m\n\u001b[0m\u001b[0;32m     31\u001b[0m             \u001b[0mprint\u001b[0m\u001b[1;33m(\u001b[0m\u001b[0my_preds\u001b[0m\u001b[1;33m.\u001b[0m\u001b[0mshape\u001b[0m\u001b[1;33m)\u001b[0m\u001b[1;33m\u001b[0m\u001b[1;33m\u001b[0m\u001b[0m\n\u001b[0;32m     32\u001b[0m             \u001b[0msentiments_prob\u001b[0m \u001b[1;33m=\u001b[0m \u001b[0mnp\u001b[0m\u001b[1;33m.\u001b[0m\u001b[0marray\u001b[0m\u001b[1;33m(\u001b[0m\u001b[1;33m[\u001b[0m\u001b[0mp\u001b[0m\u001b[1;33m[\u001b[0m\u001b[1;36m1\u001b[0m\u001b[1;33m]\u001b[0m \u001b[1;32mfor\u001b[0m \u001b[0mp\u001b[0m \u001b[1;32min\u001b[0m \u001b[0my_preds\u001b[0m\u001b[1;33m]\u001b[0m\u001b[1;33m)\u001b[0m \u001b[1;33m*\u001b[0m \u001b[1;36m2\u001b[0m \u001b[1;33m-\u001b[0m \u001b[1;36m1\u001b[0m\u001b[1;33m\u001b[0m\u001b[1;33m\u001b[0m\u001b[0m\n",
      "\u001b[1;32m~\\Anaconda3\\lib\\site-packages\\tensorflow\\python\\keras\\engine\\training.py\u001b[0m in \u001b[0;36mpredict_on_batch\u001b[1;34m(self, x)\u001b[0m\n\u001b[0;32m   1818\u001b[0m       \u001b[0miterator\u001b[0m \u001b[1;33m=\u001b[0m \u001b[0mdata_adapter\u001b[0m\u001b[1;33m.\u001b[0m\u001b[0msingle_batch_iterator\u001b[0m\u001b[1;33m(\u001b[0m\u001b[0mself\u001b[0m\u001b[1;33m.\u001b[0m\u001b[0mdistribute_strategy\u001b[0m\u001b[1;33m,\u001b[0m \u001b[0mx\u001b[0m\u001b[1;33m)\u001b[0m\u001b[1;33m\u001b[0m\u001b[1;33m\u001b[0m\u001b[0m\n\u001b[0;32m   1819\u001b[0m       \u001b[0mself\u001b[0m\u001b[1;33m.\u001b[0m\u001b[0mpredict_function\u001b[0m \u001b[1;33m=\u001b[0m \u001b[0mself\u001b[0m\u001b[1;33m.\u001b[0m\u001b[0mmake_predict_function\u001b[0m\u001b[1;33m(\u001b[0m\u001b[1;33m)\u001b[0m\u001b[1;33m\u001b[0m\u001b[1;33m\u001b[0m\u001b[0m\n\u001b[1;32m-> 1820\u001b[1;33m       \u001b[0moutputs\u001b[0m \u001b[1;33m=\u001b[0m \u001b[0mself\u001b[0m\u001b[1;33m.\u001b[0m\u001b[0mpredict_function\u001b[0m\u001b[1;33m(\u001b[0m\u001b[0miterator\u001b[0m\u001b[1;33m)\u001b[0m\u001b[1;33m\u001b[0m\u001b[1;33m\u001b[0m\u001b[0m\n\u001b[0m\u001b[0;32m   1821\u001b[0m     \u001b[1;32mreturn\u001b[0m \u001b[0mtf_utils\u001b[0m\u001b[1;33m.\u001b[0m\u001b[0mto_numpy_or_python_type\u001b[0m\u001b[1;33m(\u001b[0m\u001b[0moutputs\u001b[0m\u001b[1;33m)\u001b[0m\u001b[1;33m\u001b[0m\u001b[1;33m\u001b[0m\u001b[0m\n\u001b[0;32m   1822\u001b[0m \u001b[1;33m\u001b[0m\u001b[0m\n",
      "\u001b[1;32m~\\Anaconda3\\lib\\site-packages\\tensorflow\\python\\eager\\def_function.py\u001b[0m in \u001b[0;36m__call__\u001b[1;34m(self, *args, **kwds)\u001b[0m\n\u001b[0;32m    826\u001b[0m     \u001b[0mtracing_count\u001b[0m \u001b[1;33m=\u001b[0m \u001b[0mself\u001b[0m\u001b[1;33m.\u001b[0m\u001b[0mexperimental_get_tracing_count\u001b[0m\u001b[1;33m(\u001b[0m\u001b[1;33m)\u001b[0m\u001b[1;33m\u001b[0m\u001b[1;33m\u001b[0m\u001b[0m\n\u001b[0;32m    827\u001b[0m     \u001b[1;32mwith\u001b[0m \u001b[0mtrace\u001b[0m\u001b[1;33m.\u001b[0m\u001b[0mTrace\u001b[0m\u001b[1;33m(\u001b[0m\u001b[0mself\u001b[0m\u001b[1;33m.\u001b[0m\u001b[0m_name\u001b[0m\u001b[1;33m)\u001b[0m \u001b[1;32mas\u001b[0m \u001b[0mtm\u001b[0m\u001b[1;33m:\u001b[0m\u001b[1;33m\u001b[0m\u001b[1;33m\u001b[0m\u001b[0m\n\u001b[1;32m--> 828\u001b[1;33m       \u001b[0mresult\u001b[0m \u001b[1;33m=\u001b[0m \u001b[0mself\u001b[0m\u001b[1;33m.\u001b[0m\u001b[0m_call\u001b[0m\u001b[1;33m(\u001b[0m\u001b[1;33m*\u001b[0m\u001b[0margs\u001b[0m\u001b[1;33m,\u001b[0m \u001b[1;33m**\u001b[0m\u001b[0mkwds\u001b[0m\u001b[1;33m)\u001b[0m\u001b[1;33m\u001b[0m\u001b[1;33m\u001b[0m\u001b[0m\n\u001b[0m\u001b[0;32m    829\u001b[0m       \u001b[0mcompiler\u001b[0m \u001b[1;33m=\u001b[0m \u001b[1;34m\"xla\"\u001b[0m \u001b[1;32mif\u001b[0m \u001b[0mself\u001b[0m\u001b[1;33m.\u001b[0m\u001b[0m_experimental_compile\u001b[0m \u001b[1;32melse\u001b[0m \u001b[1;34m\"nonXla\"\u001b[0m\u001b[1;33m\u001b[0m\u001b[1;33m\u001b[0m\u001b[0m\n\u001b[0;32m    830\u001b[0m       \u001b[0mnew_tracing_count\u001b[0m \u001b[1;33m=\u001b[0m \u001b[0mself\u001b[0m\u001b[1;33m.\u001b[0m\u001b[0mexperimental_get_tracing_count\u001b[0m\u001b[1;33m(\u001b[0m\u001b[1;33m)\u001b[0m\u001b[1;33m\u001b[0m\u001b[1;33m\u001b[0m\u001b[0m\n",
      "\u001b[1;32m~\\Anaconda3\\lib\\site-packages\\tensorflow\\python\\eager\\def_function.py\u001b[0m in \u001b[0;36m_call\u001b[1;34m(self, *args, **kwds)\u001b[0m\n\u001b[0;32m    860\u001b[0m       \u001b[1;31m# In this case we have not created variables on the first call. So we can\u001b[0m\u001b[1;33m\u001b[0m\u001b[1;33m\u001b[0m\u001b[1;33m\u001b[0m\u001b[0m\n\u001b[0;32m    861\u001b[0m       \u001b[1;31m# run the first trace but we should fail if variables are created.\u001b[0m\u001b[1;33m\u001b[0m\u001b[1;33m\u001b[0m\u001b[1;33m\u001b[0m\u001b[0m\n\u001b[1;32m--> 862\u001b[1;33m       \u001b[0mresults\u001b[0m \u001b[1;33m=\u001b[0m \u001b[0mself\u001b[0m\u001b[1;33m.\u001b[0m\u001b[0m_stateful_fn\u001b[0m\u001b[1;33m(\u001b[0m\u001b[1;33m*\u001b[0m\u001b[0margs\u001b[0m\u001b[1;33m,\u001b[0m \u001b[1;33m**\u001b[0m\u001b[0mkwds\u001b[0m\u001b[1;33m)\u001b[0m\u001b[1;33m\u001b[0m\u001b[1;33m\u001b[0m\u001b[0m\n\u001b[0m\u001b[0;32m    863\u001b[0m       \u001b[1;32mif\u001b[0m \u001b[0mself\u001b[0m\u001b[1;33m.\u001b[0m\u001b[0m_created_variables\u001b[0m\u001b[1;33m:\u001b[0m\u001b[1;33m\u001b[0m\u001b[1;33m\u001b[0m\u001b[0m\n\u001b[0;32m    864\u001b[0m         raise ValueError(\"Creating variables on a non-first call to a function\"\n",
      "\u001b[1;32m~\\Anaconda3\\lib\\site-packages\\tensorflow\\python\\eager\\function.py\u001b[0m in \u001b[0;36m__call__\u001b[1;34m(self, *args, **kwargs)\u001b[0m\n\u001b[0;32m   2941\u001b[0m        filtered_flat_args) = self._maybe_define_function(args, kwargs)\n\u001b[0;32m   2942\u001b[0m     return graph_function._call_flat(\n\u001b[1;32m-> 2943\u001b[1;33m         filtered_flat_args, captured_inputs=graph_function.captured_inputs)  # pylint: disable=protected-access\n\u001b[0m\u001b[0;32m   2944\u001b[0m \u001b[1;33m\u001b[0m\u001b[0m\n\u001b[0;32m   2945\u001b[0m   \u001b[1;33m@\u001b[0m\u001b[0mproperty\u001b[0m\u001b[1;33m\u001b[0m\u001b[1;33m\u001b[0m\u001b[0m\n",
      "\u001b[1;32m~\\Anaconda3\\lib\\site-packages\\tensorflow\\python\\eager\\function.py\u001b[0m in \u001b[0;36m_call_flat\u001b[1;34m(self, args, captured_inputs, cancellation_manager)\u001b[0m\n\u001b[0;32m   1917\u001b[0m       \u001b[1;31m# No tape is watching; skip to running the function.\u001b[0m\u001b[1;33m\u001b[0m\u001b[1;33m\u001b[0m\u001b[1;33m\u001b[0m\u001b[0m\n\u001b[0;32m   1918\u001b[0m       return self._build_call_outputs(self._inference_function.call(\n\u001b[1;32m-> 1919\u001b[1;33m           ctx, args, cancellation_manager=cancellation_manager))\n\u001b[0m\u001b[0;32m   1920\u001b[0m     forward_backward = self._select_forward_and_backward_functions(\n\u001b[0;32m   1921\u001b[0m         \u001b[0margs\u001b[0m\u001b[1;33m,\u001b[0m\u001b[1;33m\u001b[0m\u001b[1;33m\u001b[0m\u001b[0m\n",
      "\u001b[1;32m~\\Anaconda3\\lib\\site-packages\\tensorflow\\python\\eager\\function.py\u001b[0m in \u001b[0;36mcall\u001b[1;34m(self, ctx, args, cancellation_manager)\u001b[0m\n\u001b[0;32m    558\u001b[0m               \u001b[0minputs\u001b[0m\u001b[1;33m=\u001b[0m\u001b[0margs\u001b[0m\u001b[1;33m,\u001b[0m\u001b[1;33m\u001b[0m\u001b[1;33m\u001b[0m\u001b[0m\n\u001b[0;32m    559\u001b[0m               \u001b[0mattrs\u001b[0m\u001b[1;33m=\u001b[0m\u001b[0mattrs\u001b[0m\u001b[1;33m,\u001b[0m\u001b[1;33m\u001b[0m\u001b[1;33m\u001b[0m\u001b[0m\n\u001b[1;32m--> 560\u001b[1;33m               ctx=ctx)\n\u001b[0m\u001b[0;32m    561\u001b[0m         \u001b[1;32melse\u001b[0m\u001b[1;33m:\u001b[0m\u001b[1;33m\u001b[0m\u001b[1;33m\u001b[0m\u001b[0m\n\u001b[0;32m    562\u001b[0m           outputs = execute.execute_with_cancellation(\n",
      "\u001b[1;32m~\\Anaconda3\\lib\\site-packages\\tensorflow\\python\\eager\\execute.py\u001b[0m in \u001b[0;36mquick_execute\u001b[1;34m(op_name, num_outputs, inputs, attrs, ctx, name)\u001b[0m\n\u001b[0;32m     58\u001b[0m     \u001b[0mctx\u001b[0m\u001b[1;33m.\u001b[0m\u001b[0mensure_initialized\u001b[0m\u001b[1;33m(\u001b[0m\u001b[1;33m)\u001b[0m\u001b[1;33m\u001b[0m\u001b[1;33m\u001b[0m\u001b[0m\n\u001b[0;32m     59\u001b[0m     tensors = pywrap_tfe.TFE_Py_Execute(ctx._handle, device_name, op_name,\n\u001b[1;32m---> 60\u001b[1;33m                                         inputs, attrs, num_outputs)\n\u001b[0m\u001b[0;32m     61\u001b[0m   \u001b[1;32mexcept\u001b[0m \u001b[0mcore\u001b[0m\u001b[1;33m.\u001b[0m\u001b[0m_NotOkStatusException\u001b[0m \u001b[1;32mas\u001b[0m \u001b[0me\u001b[0m\u001b[1;33m:\u001b[0m\u001b[1;33m\u001b[0m\u001b[1;33m\u001b[0m\u001b[0m\n\u001b[0;32m     62\u001b[0m     \u001b[1;32mif\u001b[0m \u001b[0mname\u001b[0m \u001b[1;32mis\u001b[0m \u001b[1;32mnot\u001b[0m \u001b[1;32mNone\u001b[0m\u001b[1;33m:\u001b[0m\u001b[1;33m\u001b[0m\u001b[1;33m\u001b[0m\u001b[0m\n",
      "\u001b[1;31mKeyboardInterrupt\u001b[0m: "
     ]
    }
   ],
   "source": [
    "# Before running this block, you should finish training the DNN with name \"model\"\n",
    "import os\n",
    "import numpy as np  # Remove if already defined\n",
    "\n",
    "# Predicting\n",
    "selected_company = [\"facebook\", \"amazon\", \"tesla\", \"netflix\", \"apple\", \"google\"]\n",
    "company_df = dict(zip(selected_company, [[], [], [], [], [], []]))\n",
    "for comp in selected_company:\n",
    "    for month in range(1, 13):\n",
    "        for day in range(1, 32):\n",
    "            \n",
    "            # File reading\n",
    "            try:\n",
    "                word_vector = np.load(\"comment_vectors/{}-{}-{}.npz\".format(comp, month, day))\n",
    "                impacts = list(np.loadtxt(\"impact_weights/{}-{}-{}.txt\".format(comp, month, day)))\n",
    "            except:\n",
    "                continue\n",
    "            \n",
    "            # Several ways to add weights to the sentiments\n",
    "            # Plain mean, weighted mean, square weighted mean, sqrt weighted mean\n",
    "            # All weights normalized before computing\n",
    "            norm_impacts = [i / (sum(impacts)+0.01) for i in impacts]\n",
    "            square_impacts = [i**2 for i in impacts]\n",
    "            norm_square_impacts = [i / (sum(square_impacts)+0.01) for i in square_impacts]\n",
    "            sqrt_impacts = [i**(1/2) for i in impacts]\n",
    "            norm_sqrt_impacts = [i / (sum(sqrt_impacts)+0.01) for i in sqrt_impacts]\n",
    "            \n",
    "            # Preparing\n",
    "            date_str = \"{}/{}/2020\".format(month, day)\n",
    "            y_preds = model.predict_on_batch(word_vector['inputs'])  # Make predictions\n",
    "            sentiments_prob = np.array([p[1] for p in y_preds]) * 2 - 1\n",
    "            print(sen)\n",
    "            sentiments = np.array([p[0] < 0.5 for p in y_preds]).astype(int)  # Manual Softmax\n",
    "            sentiments = sentiments * 2 - 1  # Change to -1 and 1 labels\n",
    "            \n",
    "            # Formatting\n",
    "            company_df[comp].append([\n",
    "                date_str,\n",
    "                np.round(sentiments @ norm_impacts, 3),\n",
    "                np.round(sentiments @ norm_square_impacts, 3),\n",
    "                np.round(sentiments @ norm_sqrt_impacts, 3),\n",
    "                np.round(sentiments_prob @ norm_impacts, 3),\n",
    "                np.round(sentiments_prob @ norm_square_impacts, 3),\n",
    "                np.round(sentiments_prob @ norm_sqrt_impacts, 3)\n",
    "            ])\n",
    "\n",
    "\n",
    "# Output\n",
    "import pandas as pd\n",
    "\n",
    "try:\n",
    "    os.mkdir(\"sentiment_time_series\")\n",
    "except FileExistsError:\n",
    "    print(\"Directory already exists\")\n",
    "\n",
    "for comp in selected_company:\n",
    "    df = pd.DataFrame(\n",
    "        data=company_df[comp],\n",
    "        columns=[\"date\", \"binary_mean\", \"binary_squared_mean\", \"binary_sqrt_mean\", \"prob_mean\", \"prob_squared_mean\", \"prob_sqrt_mean\"]\n",
    "    )\n",
    "    df.to_csv(\"sentiment_time_series/{}_sentiment_time_series.csv\".format(comp), index=False)\n",
    "\n",
    "print(\"Done\")"
   ]
  },
  {
   "cell_type": "code",
   "execution_count": 6,
   "metadata": {},
   "outputs": [],
   "source": [
    "import pandas as pd"
   ]
  },
  {
   "cell_type": "code",
   "execution_count": 7,
   "metadata": {},
   "outputs": [],
   "source": [
    "amazon_sentiment = pd.read_csv(\"sentiment_time_series/amazon_sentiment_time_series.csv\")"
   ]
  },
  {
   "cell_type": "code",
   "execution_count": 8,
   "metadata": {},
   "outputs": [
    {
     "data": {
      "text/html": [
       "<div>\n",
       "<style scoped>\n",
       "    .dataframe tbody tr th:only-of-type {\n",
       "        vertical-align: middle;\n",
       "    }\n",
       "\n",
       "    .dataframe tbody tr th {\n",
       "        vertical-align: top;\n",
       "    }\n",
       "\n",
       "    .dataframe thead th {\n",
       "        text-align: right;\n",
       "    }\n",
       "</style>\n",
       "<table border=\"1\" class=\"dataframe\">\n",
       "  <thead>\n",
       "    <tr style=\"text-align: right;\">\n",
       "      <th></th>\n",
       "      <th>date</th>\n",
       "      <th>binary_mean</th>\n",
       "      <th>binary_squared_mean</th>\n",
       "      <th>binary_sqrt_mean</th>\n",
       "      <th>prob_mean</th>\n",
       "      <th>prob_squared_mean</th>\n",
       "      <th>prob_sqrt_mean</th>\n",
       "    </tr>\n",
       "  </thead>\n",
       "  <tbody>\n",
       "    <tr>\n",
       "      <td>0</td>\n",
       "      <td>1/1/2020</td>\n",
       "      <td>0.0</td>\n",
       "      <td>0.0</td>\n",
       "      <td>0.0</td>\n",
       "      <td>0.0</td>\n",
       "      <td>0.0</td>\n",
       "      <td>0.0</td>\n",
       "    </tr>\n",
       "    <tr>\n",
       "      <td>1</td>\n",
       "      <td>1/2/2020</td>\n",
       "      <td>0.0</td>\n",
       "      <td>0.0</td>\n",
       "      <td>0.0</td>\n",
       "      <td>0.0</td>\n",
       "      <td>0.0</td>\n",
       "      <td>0.0</td>\n",
       "    </tr>\n",
       "    <tr>\n",
       "      <td>2</td>\n",
       "      <td>1/3/2020</td>\n",
       "      <td>0.0</td>\n",
       "      <td>0.0</td>\n",
       "      <td>0.0</td>\n",
       "      <td>0.0</td>\n",
       "      <td>0.0</td>\n",
       "      <td>0.0</td>\n",
       "    </tr>\n",
       "    <tr>\n",
       "      <td>3</td>\n",
       "      <td>1/8/2020</td>\n",
       "      <td>0.0</td>\n",
       "      <td>0.0</td>\n",
       "      <td>0.0</td>\n",
       "      <td>0.0</td>\n",
       "      <td>0.0</td>\n",
       "      <td>0.0</td>\n",
       "    </tr>\n",
       "    <tr>\n",
       "      <td>4</td>\n",
       "      <td>1/9/2020</td>\n",
       "      <td>0.0</td>\n",
       "      <td>0.0</td>\n",
       "      <td>0.0</td>\n",
       "      <td>0.0</td>\n",
       "      <td>0.0</td>\n",
       "      <td>0.0</td>\n",
       "    </tr>\n",
       "  </tbody>\n",
       "</table>\n",
       "</div>"
      ],
      "text/plain": [
       "       date  binary_mean  binary_squared_mean  binary_sqrt_mean  prob_mean  \\\n",
       "0  1/1/2020          0.0                  0.0               0.0        0.0   \n",
       "1  1/2/2020          0.0                  0.0               0.0        0.0   \n",
       "2  1/3/2020          0.0                  0.0               0.0        0.0   \n",
       "3  1/8/2020          0.0                  0.0               0.0        0.0   \n",
       "4  1/9/2020          0.0                  0.0               0.0        0.0   \n",
       "\n",
       "   prob_squared_mean  prob_sqrt_mean  \n",
       "0                0.0             0.0  \n",
       "1                0.0             0.0  \n",
       "2                0.0             0.0  \n",
       "3                0.0             0.0  \n",
       "4                0.0             0.0  "
      ]
     },
     "execution_count": 8,
     "metadata": {},
     "output_type": "execute_result"
    }
   ],
   "source": [
    "amazon_sentiment.head()"
   ]
  },
  {
   "cell_type": "code",
   "execution_count": 9,
   "metadata": {},
   "outputs": [
    {
     "data": {
      "text/plain": [
       "3.898"
      ]
     },
     "execution_count": 9,
     "metadata": {},
     "output_type": "execute_result"
    }
   ],
   "source": [
    "amazon_sentiment.binary_mean.max()"
   ]
  },
  {
   "cell_type": "code",
   "execution_count": 10,
   "metadata": {},
   "outputs": [
    {
     "data": {
      "text/plain": [
       "1.0"
      ]
     },
     "execution_count": 10,
     "metadata": {},
     "output_type": "execute_result"
    }
   ],
   "source": [
    "amazon_sentiment.binary_squared_mean.max()"
   ]
  },
  {
   "cell_type": "code",
   "execution_count": 11,
   "metadata": {},
   "outputs": [
    {
     "data": {
      "text/plain": [
       "-1.0"
      ]
     },
     "execution_count": 11,
     "metadata": {},
     "output_type": "execute_result"
    }
   ],
   "source": [
    "amazon_sentiment.binary_squared_mean.min()"
   ]
  },
  {
   "cell_type": "code",
   "execution_count": 12,
   "metadata": {},
   "outputs": [
    {
     "data": {
      "text/plain": [
       "1.0"
      ]
     },
     "execution_count": 12,
     "metadata": {},
     "output_type": "execute_result"
    }
   ],
   "source": [
    "amazon_sentiment.binary_sqrt_mean.max()"
   ]
  },
  {
   "cell_type": "code",
   "execution_count": 13,
   "metadata": {},
   "outputs": [
    {
     "data": {
      "text/plain": [
       "-0.9990000000000001"
      ]
     },
     "execution_count": 13,
     "metadata": {},
     "output_type": "execute_result"
    }
   ],
   "source": [
    "amazon_sentiment.binary_sqrt_mean.min()"
   ]
  },
  {
   "cell_type": "code",
   "execution_count": 14,
   "metadata": {},
   "outputs": [
    {
     "data": {
      "text/plain": [
       "1.248"
      ]
     },
     "execution_count": 14,
     "metadata": {},
     "output_type": "execute_result"
    }
   ],
   "source": [
    "amazon_sentiment.prob_mean.max()"
   ]
  },
  {
   "cell_type": "code",
   "execution_count": 15,
   "metadata": {},
   "outputs": [
    {
     "data": {
      "text/plain": [
       "0.968"
      ]
     },
     "execution_count": 15,
     "metadata": {},
     "output_type": "execute_result"
    }
   ],
   "source": [
    "amazon_sentiment.prob_squared_mean.max()"
   ]
  },
  {
   "cell_type": "code",
   "execution_count": 16,
   "metadata": {},
   "outputs": [
    {
     "data": {
      "text/plain": [
       "-0.895"
      ]
     },
     "execution_count": 16,
     "metadata": {},
     "output_type": "execute_result"
    }
   ],
   "source": [
    "amazon_sentiment.prob_squared_mean.min()"
   ]
  },
  {
   "cell_type": "code",
   "execution_count": null,
   "metadata": {},
   "outputs": [],
   "source": []
  }
 ],
 "metadata": {
  "kernelspec": {
   "display_name": "Python 3",
   "language": "python",
   "name": "python3"
  },
  "language_info": {
   "codemirror_mode": {
    "name": "ipython",
    "version": 3
   },
   "file_extension": ".py",
   "mimetype": "text/x-python",
   "name": "python",
   "nbconvert_exporter": "python",
   "pygments_lexer": "ipython3",
   "version": "3.7.4"
  }
 },
 "nbformat": 4,
 "nbformat_minor": 4
}
