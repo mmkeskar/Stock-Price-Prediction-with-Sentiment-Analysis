{
 "cells": [
  {
   "cell_type": "code",
   "execution_count": 1,
   "metadata": {},
   "outputs": [],
   "source": [
    "import pandas as pd\n",
    "import numpy as np\n",
    "import matplotlib.pyplot as plt"
   ]
  },
  {
   "cell_type": "code",
   "execution_count": 2,
   "metadata": {},
   "outputs": [
    {
     "data": {
      "text/html": [
       "<div>\n",
       "<style scoped>\n",
       "    .dataframe tbody tr th:only-of-type {\n",
       "        vertical-align: middle;\n",
       "    }\n",
       "\n",
       "    .dataframe tbody tr th {\n",
       "        vertical-align: top;\n",
       "    }\n",
       "\n",
       "    .dataframe thead th {\n",
       "        text-align: right;\n",
       "    }\n",
       "</style>\n",
       "<table border=\"1\" class=\"dataframe\">\n",
       "  <thead>\n",
       "    <tr style=\"text-align: right;\">\n",
       "      <th></th>\n",
       "      <th>date</th>\n",
       "      <th>binary_mean</th>\n",
       "      <th>binary_squared_mean</th>\n",
       "      <th>binary_sqrt_mean</th>\n",
       "      <th>prob_mean</th>\n",
       "      <th>prob_squared_mean</th>\n",
       "      <th>prob_sqrt_mean</th>\n",
       "    </tr>\n",
       "  </thead>\n",
       "  <tbody>\n",
       "    <tr>\n",
       "      <td>0</td>\n",
       "      <td>1/2/2020</td>\n",
       "      <td>0.0</td>\n",
       "      <td>0.0</td>\n",
       "      <td>0.0</td>\n",
       "      <td>0.0</td>\n",
       "      <td>0.0</td>\n",
       "      <td>0.0</td>\n",
       "    </tr>\n",
       "    <tr>\n",
       "      <td>1</td>\n",
       "      <td>1/3/2020</td>\n",
       "      <td>0.0</td>\n",
       "      <td>0.0</td>\n",
       "      <td>0.0</td>\n",
       "      <td>0.0</td>\n",
       "      <td>0.0</td>\n",
       "      <td>0.0</td>\n",
       "    </tr>\n",
       "    <tr>\n",
       "      <td>2</td>\n",
       "      <td>1/4/2020</td>\n",
       "      <td>0.0</td>\n",
       "      <td>0.0</td>\n",
       "      <td>0.0</td>\n",
       "      <td>0.0</td>\n",
       "      <td>0.0</td>\n",
       "      <td>0.0</td>\n",
       "    </tr>\n",
       "    <tr>\n",
       "      <td>3</td>\n",
       "      <td>1/5/2020</td>\n",
       "      <td>0.0</td>\n",
       "      <td>0.0</td>\n",
       "      <td>0.0</td>\n",
       "      <td>0.0</td>\n",
       "      <td>0.0</td>\n",
       "      <td>0.0</td>\n",
       "    </tr>\n",
       "    <tr>\n",
       "      <td>4</td>\n",
       "      <td>1/6/2020</td>\n",
       "      <td>0.0</td>\n",
       "      <td>0.0</td>\n",
       "      <td>0.0</td>\n",
       "      <td>0.0</td>\n",
       "      <td>0.0</td>\n",
       "      <td>0.0</td>\n",
       "    </tr>\n",
       "  </tbody>\n",
       "</table>\n",
       "</div>"
      ],
      "text/plain": [
       "       date  binary_mean  binary_squared_mean  binary_sqrt_mean  prob_mean  \\\n",
       "0  1/2/2020          0.0                  0.0               0.0        0.0   \n",
       "1  1/3/2020          0.0                  0.0               0.0        0.0   \n",
       "2  1/4/2020          0.0                  0.0               0.0        0.0   \n",
       "3  1/5/2020          0.0                  0.0               0.0        0.0   \n",
       "4  1/6/2020          0.0                  0.0               0.0        0.0   \n",
       "\n",
       "   prob_squared_mean  prob_sqrt_mean  \n",
       "0                0.0             0.0  \n",
       "1                0.0             0.0  \n",
       "2                0.0             0.0  \n",
       "3                0.0             0.0  \n",
       "4                0.0             0.0  "
      ]
     },
     "execution_count": 2,
     "metadata": {},
     "output_type": "execute_result"
    }
   ],
   "source": [
    "apple_sentiment = pd.read_csv(\"sentiment_time_series/apple_sentiment_time_series.csv\")\n",
    "apple_sentiment.head()"
   ]
  },
  {
   "cell_type": "code",
   "execution_count": 3,
   "metadata": {},
   "outputs": [
    {
     "data": {
      "text/html": [
       "<div>\n",
       "<style scoped>\n",
       "    .dataframe tbody tr th:only-of-type {\n",
       "        vertical-align: middle;\n",
       "    }\n",
       "\n",
       "    .dataframe tbody tr th {\n",
       "        vertical-align: top;\n",
       "    }\n",
       "\n",
       "    .dataframe thead th {\n",
       "        text-align: right;\n",
       "    }\n",
       "</style>\n",
       "<table border=\"1\" class=\"dataframe\">\n",
       "  <thead>\n",
       "    <tr style=\"text-align: right;\">\n",
       "      <th></th>\n",
       "      <th>Unnamed: 0</th>\n",
       "      <th>Date</th>\n",
       "      <th>Pred</th>\n",
       "      <th>Actual</th>\n",
       "    </tr>\n",
       "  </thead>\n",
       "  <tbody>\n",
       "    <tr>\n",
       "      <td>0</td>\n",
       "      <td>7559</td>\n",
       "      <td>1/2/2020</td>\n",
       "      <td>71.986710</td>\n",
       "      <td>74.444603</td>\n",
       "    </tr>\n",
       "    <tr>\n",
       "      <td>1</td>\n",
       "      <td>7560</td>\n",
       "      <td>1/3/2020</td>\n",
       "      <td>73.601325</td>\n",
       "      <td>73.720840</td>\n",
       "    </tr>\n",
       "    <tr>\n",
       "      <td>2</td>\n",
       "      <td>7561</td>\n",
       "      <td>1/6/2020</td>\n",
       "      <td>72.764445</td>\n",
       "      <td>74.308266</td>\n",
       "    </tr>\n",
       "    <tr>\n",
       "      <td>3</td>\n",
       "      <td>7562</td>\n",
       "      <td>1/7/2020</td>\n",
       "      <td>73.520607</td>\n",
       "      <td>73.958794</td>\n",
       "    </tr>\n",
       "    <tr>\n",
       "      <td>4</td>\n",
       "      <td>7563</td>\n",
       "      <td>1/8/2020</td>\n",
       "      <td>73.079492</td>\n",
       "      <td>75.148521</td>\n",
       "    </tr>\n",
       "  </tbody>\n",
       "</table>\n",
       "</div>"
      ],
      "text/plain": [
       "   Unnamed: 0      Date       Pred     Actual\n",
       "0        7559  1/2/2020  71.986710  74.444603\n",
       "1        7560  1/3/2020  73.601325  73.720840\n",
       "2        7561  1/6/2020  72.764445  74.308266\n",
       "3        7562  1/7/2020  73.520607  73.958794\n",
       "4        7563  1/8/2020  73.079492  75.148521"
      ]
     },
     "execution_count": 3,
     "metadata": {},
     "output_type": "execute_result"
    }
   ],
   "source": [
    "apple_lstm = pd.read_csv(\"AAPL_LSTM_predictions.csv\")\n",
    "apple_lstm.head()"
   ]
  },
  {
   "cell_type": "code",
   "execution_count": 4,
   "metadata": {},
   "outputs": [],
   "source": [
    "merged = pd.merge(apple_sentiment, apple_lstm, left_on='date', right_on='Date')"
   ]
  },
  {
   "cell_type": "code",
   "execution_count": 5,
   "metadata": {},
   "outputs": [],
   "source": [
    "merged_changed = merged[['date', 'prob_sqrt_mean', 'Pred', 'Actual']]\n",
    "merged_changed = merged_changed.dropna()"
   ]
  },
  {
   "cell_type": "code",
   "execution_count": 6,
   "metadata": {},
   "outputs": [
    {
     "data": {
      "text/plain": [
       "(155,)"
      ]
     },
     "execution_count": 6,
     "metadata": {},
     "output_type": "execute_result"
    }
   ],
   "source": [
    "inputs_1 = merged_changed.prob_sqrt_mean.values\n",
    "inputs_1.shape"
   ]
  },
  {
   "cell_type": "code",
   "execution_count": 7,
   "metadata": {},
   "outputs": [
    {
     "data": {
      "text/plain": [
       "(155,)"
      ]
     },
     "execution_count": 7,
     "metadata": {},
     "output_type": "execute_result"
    }
   ],
   "source": [
    "inputs_2 = merged_changed.Pred.values\n",
    "inputs_2.shape"
   ]
  },
  {
   "cell_type": "code",
   "execution_count": 8,
   "metadata": {},
   "outputs": [
    {
     "data": {
      "text/plain": [
       "(155, 2)"
      ]
     },
     "execution_count": 8,
     "metadata": {},
     "output_type": "execute_result"
    }
   ],
   "source": [
    "inputs = np.stack((inputs_1, inputs_2), axis=1)\n",
    "inputs.shape"
   ]
  },
  {
   "cell_type": "code",
   "execution_count": 9,
   "metadata": {},
   "outputs": [],
   "source": [
    "targets = merged_changed.iloc[:, 3].values"
   ]
  },
  {
   "cell_type": "code",
   "execution_count": 10,
   "metadata": {},
   "outputs": [
    {
     "name": "stdout",
     "output_type": "stream",
     "text": [
      "                            OLS Regression Results                            \n",
      "==============================================================================\n",
      "Dep. Variable:                      y   R-squared:                       0.982\n",
      "Model:                            OLS   Adj. R-squared:                  0.982\n",
      "Method:                 Least Squares   F-statistic:                     4177.\n",
      "Date:                Fri, 12 Feb 2021   Prob (F-statistic):          1.45e-133\n",
      "Time:                        22:10:43   Log-Likelihood:                -364.68\n",
      "No. Observations:                 155   AIC:                             735.4\n",
      "Df Residuals:                     152   BIC:                             744.5\n",
      "Df Model:                           2                                         \n",
      "Covariance Type:            nonrobust                                         \n",
      "==============================================================================\n",
      "                 coef    std err          t      P>|t|      [0.025      0.975]\n",
      "------------------------------------------------------------------------------\n",
      "const         90.2209      0.206    437.198      0.000      89.813      90.629\n",
      "x1            -0.0235      0.209     -0.112      0.911      -0.436       0.389\n",
      "x2            18.8650      0.209     90.257      0.000      18.452      19.278\n",
      "==============================================================================\n",
      "Omnibus:                       16.663   Durbin-Watson:                   2.009\n",
      "Prob(Omnibus):                  0.000   Jarque-Bera (JB):               45.630\n",
      "Skew:                          -0.324   Prob(JB):                     1.23e-10\n",
      "Kurtosis:                       5.578   Cond. No.                         1.17\n",
      "==============================================================================\n",
      "\n",
      "Warnings:\n",
      "[1] Standard Errors assume that the covariance matrix of the errors is correctly specified.\n"
     ]
    }
   ],
   "source": [
    "import statsmodels.api as sm\n",
    "from sklearn.preprocessing import StandardScaler\n",
    "\n",
    "sc = StandardScaler()\n",
    "inputs = sc.fit_transform(inputs)\n",
    "\n",
    "inputs = sm.add_constant(inputs)\n",
    "model = sm.OLS(targets, inputs)\n",
    "results = model.fit()\n",
    "print(results.summary())"
   ]
  },
  {
   "cell_type": "code",
   "execution_count": 11,
   "metadata": {},
   "outputs": [],
   "source": [
    "predictions = results.predict()"
   ]
  },
  {
   "cell_type": "code",
   "execution_count": 12,
   "metadata": {},
   "outputs": [],
   "source": [
    "apple_stock_prediction = pd.DataFrame().assign(Predictions=predictions, \n",
    "                                                Actual=merged['Actual'])\n",
    "apple_stock_prediction.to_csv(\"apple_stock_prediction_reddit.csv\")"
   ]
  }
 ],
 "metadata": {
  "kernelspec": {
   "display_name": "Python 3",
   "language": "python",
   "name": "python3"
  },
  "language_info": {
   "codemirror_mode": {
    "name": "ipython",
    "version": 3
   },
   "file_extension": ".py",
   "mimetype": "text/x-python",
   "name": "python",
   "nbconvert_exporter": "python",
   "pygments_lexer": "ipython3",
   "version": "3.7.4"
  }
 },
 "nbformat": 4,
 "nbformat_minor": 2
}
